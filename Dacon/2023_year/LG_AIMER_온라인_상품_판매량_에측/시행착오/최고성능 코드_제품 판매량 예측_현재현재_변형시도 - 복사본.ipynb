{
 "cells": [
  {
   "cell_type": "markdown",
   "id": "f7444f30-0883-4a87-8e00-c5e5591a2a26",
   "metadata": {},
   "source": [
    "## Import"
   ]
  },
  {
   "cell_type": "code",
   "execution_count": 1,
   "id": "b85832b1-9f31-41e4-b934-cc260e5b3b1d",
   "metadata": {},
   "outputs": [
    {
     "name": "stderr",
     "output_type": "stream",
     "text": [
      "c:\\Users\\User\\AppData\\Local\\Programs\\Python\\Python310\\lib\\site-packages\\tqdm\\auto.py:21: TqdmWarning: IProgress not found. Please update jupyter and ipywidgets. See https://ipywidgets.readthedocs.io/en/stable/user_install.html\n",
      "  from .autonotebook import tqdm as notebook_tqdm\n"
     ]
    }
   ],
   "source": [
    "import random\n",
    "import os\n",
    "import pandas as pd\n",
    "import numpy as np\n",
    "from tqdm.auto import tqdm\n",
    "from sklearn.preprocessing import LabelEncoder\n",
    "\n",
    "import torch\n",
    "import torch.nn as nn\n",
    "import torch.optim as optim\n",
    "import torch.nn.functional as F\n",
    "from torch.utils.data import Dataset, DataLoader"
   ]
  },
  {
   "cell_type": "code",
   "execution_count": 2,
   "id": "b0259cfd-b37c-4716-aacf-c91d77e41480",
   "metadata": {},
   "outputs": [],
   "source": [
    "device = torch.device('cuda') if torch.cuda.is_available() else torch.device('cpu')"
   ]
  },
  {
   "cell_type": "code",
   "execution_count": 3,
   "id": "12cd3e7a",
   "metadata": {},
   "outputs": [
    {
     "data": {
      "text/plain": [
       "'NVIDIA GeForce RTX 3090'"
      ]
     },
     "execution_count": 3,
     "metadata": {},
     "output_type": "execute_result"
    }
   ],
   "source": [
    "torch.cuda.get_device_name(0)"
   ]
  },
  {
   "cell_type": "code",
   "execution_count": 4,
   "id": "ba24aa07",
   "metadata": {},
   "outputs": [
    {
     "data": {
      "text/plain": [
       "True"
      ]
     },
     "execution_count": 4,
     "metadata": {},
     "output_type": "execute_result"
    }
   ],
   "source": [
    "torch.cuda.is_available()"
   ]
  },
  {
   "cell_type": "code",
   "execution_count": 5,
   "id": "c9d06262",
   "metadata": {},
   "outputs": [
    {
     "data": {
      "text/plain": [
       "'2.0.1+cu118'"
      ]
     },
     "execution_count": 5,
     "metadata": {},
     "output_type": "execute_result"
    }
   ],
   "source": [
    "torch.__version__"
   ]
  },
  {
   "cell_type": "code",
   "execution_count": 6,
   "id": "99fd9bb8",
   "metadata": {},
   "outputs": [],
   "source": [
    "# torch.cuda.empty_cache()"
   ]
  },
  {
   "cell_type": "markdown",
   "id": "07c2d47b-e9da-47e5-9155-cce997e63481",
   "metadata": {},
   "source": [
    "## Hyperparameter Setting"
   ]
  },
  {
   "cell_type": "code",
   "execution_count": 7,
   "id": "c9f50013-6513-44fd-8e48-06dd12ec3f63",
   "metadata": {},
   "outputs": [],
   "source": [
    "CFG = {\n",
    "    'TRAIN_WINDOW_SIZE':120, # 90일치로 학습  초기는 90일이였음 \n",
    "    'PREDICT_SIZE':21, # 21일치 예측\n",
    "    'EPOCHS':100,\n",
    "    'LEARNING_RATE':1e-4,\n",
    "    'BATCH_SIZE':4096,\n",
    "    'SEED':41\n",
    "}"
   ]
  },
  {
   "cell_type": "code",
   "execution_count": 8,
   "id": "44cdbe67-eda2-42ef-bc35-0a2bfd99f211",
   "metadata": {},
   "outputs": [],
   "source": [
    "def seed_everything(seed):\n",
    "    random.seed(seed)\n",
    "    os.environ['PYTHONHASHSEED'] = str(seed)\n",
    "    np.random.seed(seed)\n",
    "    torch.manual_seed(seed)\n",
    "    torch.cuda.manual_seed(seed)\n",
    "    torch.backends.cudnn.deterministic = True\n",
    "    torch.backends.cudnn.benchmark = True\n",
    "\n",
    "seed_everything(CFG['SEED']) # Seed 고정"
   ]
  },
  {
   "cell_type": "markdown",
   "id": "7d68c38e",
   "metadata": {},
   "source": [
    "### 데이터 불러오기"
   ]
  },
  {
   "cell_type": "code",
   "execution_count": 9,
   "id": "e3b89389",
   "metadata": {},
   "outputs": [],
   "source": [
    "train_data = pd.read_csv('E:/LG/LG_data/train.csv').drop(columns=['ID', '제품'])"
   ]
  },
  {
   "cell_type": "code",
   "execution_count": 10,
   "id": "3e15f45d",
   "metadata": {},
   "outputs": [],
   "source": [
    "brand_keyword_cnt = pd.read_csv('E:/LG/LG_data/brand_keyword_cnt.csv')"
   ]
  },
  {
   "cell_type": "code",
   "execution_count": 11,
   "id": "560c51b7",
   "metadata": {},
   "outputs": [
    {
     "data": {
      "text/html": [
       "<div>\n",
       "<style scoped>\n",
       "    .dataframe tbody tr th:only-of-type {\n",
       "        vertical-align: middle;\n",
       "    }\n",
       "\n",
       "    .dataframe tbody tr th {\n",
       "        vertical-align: top;\n",
       "    }\n",
       "\n",
       "    .dataframe thead th {\n",
       "        text-align: right;\n",
       "    }\n",
       "</style>\n",
       "<table border=\"1\" class=\"dataframe\">\n",
       "  <thead>\n",
       "    <tr style=\"text-align: right;\">\n",
       "      <th></th>\n",
       "      <th>대분류</th>\n",
       "      <th>중분류</th>\n",
       "      <th>소분류</th>\n",
       "      <th>브랜드</th>\n",
       "      <th>2022-01-01</th>\n",
       "      <th>2022-01-02</th>\n",
       "      <th>2022-01-03</th>\n",
       "      <th>2022-01-04</th>\n",
       "      <th>2022-01-05</th>\n",
       "      <th>2022-01-06</th>\n",
       "      <th>...</th>\n",
       "      <th>2023-03-26</th>\n",
       "      <th>2023-03-27</th>\n",
       "      <th>2023-03-28</th>\n",
       "      <th>2023-03-29</th>\n",
       "      <th>2023-03-30</th>\n",
       "      <th>2023-03-31</th>\n",
       "      <th>2023-04-01</th>\n",
       "      <th>2023-04-02</th>\n",
       "      <th>2023-04-03</th>\n",
       "      <th>2023-04-04</th>\n",
       "    </tr>\n",
       "  </thead>\n",
       "  <tbody>\n",
       "    <tr>\n",
       "      <th>0</th>\n",
       "      <td>B002-C001-0002</td>\n",
       "      <td>B002-C002-0007</td>\n",
       "      <td>B002-C003-0038</td>\n",
       "      <td>B002-00001</td>\n",
       "      <td>0</td>\n",
       "      <td>0</td>\n",
       "      <td>0</td>\n",
       "      <td>0</td>\n",
       "      <td>0</td>\n",
       "      <td>0</td>\n",
       "      <td>...</td>\n",
       "      <td>0</td>\n",
       "      <td>0</td>\n",
       "      <td>0</td>\n",
       "      <td>0</td>\n",
       "      <td>0</td>\n",
       "      <td>0</td>\n",
       "      <td>0</td>\n",
       "      <td>0</td>\n",
       "      <td>0</td>\n",
       "      <td>0</td>\n",
       "    </tr>\n",
       "    <tr>\n",
       "      <th>1</th>\n",
       "      <td>B002-C001-0003</td>\n",
       "      <td>B002-C002-0008</td>\n",
       "      <td>B002-C003-0044</td>\n",
       "      <td>B002-00002</td>\n",
       "      <td>0</td>\n",
       "      <td>0</td>\n",
       "      <td>0</td>\n",
       "      <td>0</td>\n",
       "      <td>0</td>\n",
       "      <td>0</td>\n",
       "      <td>...</td>\n",
       "      <td>0</td>\n",
       "      <td>0</td>\n",
       "      <td>0</td>\n",
       "      <td>1</td>\n",
       "      <td>3</td>\n",
       "      <td>2</td>\n",
       "      <td>0</td>\n",
       "      <td>0</td>\n",
       "      <td>2</td>\n",
       "      <td>0</td>\n",
       "    </tr>\n",
       "    <tr>\n",
       "      <th>2</th>\n",
       "      <td>B002-C001-0003</td>\n",
       "      <td>B002-C002-0008</td>\n",
       "      <td>B002-C003-0044</td>\n",
       "      <td>B002-00002</td>\n",
       "      <td>0</td>\n",
       "      <td>0</td>\n",
       "      <td>0</td>\n",
       "      <td>0</td>\n",
       "      <td>0</td>\n",
       "      <td>0</td>\n",
       "      <td>...</td>\n",
       "      <td>0</td>\n",
       "      <td>0</td>\n",
       "      <td>0</td>\n",
       "      <td>0</td>\n",
       "      <td>0</td>\n",
       "      <td>0</td>\n",
       "      <td>0</td>\n",
       "      <td>0</td>\n",
       "      <td>0</td>\n",
       "      <td>0</td>\n",
       "    </tr>\n",
       "    <tr>\n",
       "      <th>3</th>\n",
       "      <td>B002-C001-0003</td>\n",
       "      <td>B002-C002-0008</td>\n",
       "      <td>B002-C003-0044</td>\n",
       "      <td>B002-00002</td>\n",
       "      <td>0</td>\n",
       "      <td>0</td>\n",
       "      <td>0</td>\n",
       "      <td>0</td>\n",
       "      <td>0</td>\n",
       "      <td>0</td>\n",
       "      <td>...</td>\n",
       "      <td>0</td>\n",
       "      <td>0</td>\n",
       "      <td>0</td>\n",
       "      <td>0</td>\n",
       "      <td>0</td>\n",
       "      <td>0</td>\n",
       "      <td>0</td>\n",
       "      <td>0</td>\n",
       "      <td>0</td>\n",
       "      <td>0</td>\n",
       "    </tr>\n",
       "    <tr>\n",
       "      <th>4</th>\n",
       "      <td>B002-C001-0001</td>\n",
       "      <td>B002-C002-0001</td>\n",
       "      <td>B002-C003-0003</td>\n",
       "      <td>B002-00003</td>\n",
       "      <td>0</td>\n",
       "      <td>0</td>\n",
       "      <td>0</td>\n",
       "      <td>0</td>\n",
       "      <td>0</td>\n",
       "      <td>0</td>\n",
       "      <td>...</td>\n",
       "      <td>0</td>\n",
       "      <td>0</td>\n",
       "      <td>0</td>\n",
       "      <td>0</td>\n",
       "      <td>0</td>\n",
       "      <td>0</td>\n",
       "      <td>0</td>\n",
       "      <td>0</td>\n",
       "      <td>0</td>\n",
       "      <td>0</td>\n",
       "    </tr>\n",
       "    <tr>\n",
       "      <th>5</th>\n",
       "      <td>B002-C001-0001</td>\n",
       "      <td>B002-C002-0001</td>\n",
       "      <td>B002-C003-0003</td>\n",
       "      <td>B002-00003</td>\n",
       "      <td>0</td>\n",
       "      <td>0</td>\n",
       "      <td>0</td>\n",
       "      <td>0</td>\n",
       "      <td>0</td>\n",
       "      <td>0</td>\n",
       "      <td>...</td>\n",
       "      <td>0</td>\n",
       "      <td>0</td>\n",
       "      <td>0</td>\n",
       "      <td>0</td>\n",
       "      <td>0</td>\n",
       "      <td>0</td>\n",
       "      <td>0</td>\n",
       "      <td>0</td>\n",
       "      <td>0</td>\n",
       "      <td>0</td>\n",
       "    </tr>\n",
       "    <tr>\n",
       "      <th>6</th>\n",
       "      <td>B002-C001-0001</td>\n",
       "      <td>B002-C002-0001</td>\n",
       "      <td>B002-C003-0003</td>\n",
       "      <td>B002-00003</td>\n",
       "      <td>0</td>\n",
       "      <td>0</td>\n",
       "      <td>0</td>\n",
       "      <td>7</td>\n",
       "      <td>21</td>\n",
       "      <td>16</td>\n",
       "      <td>...</td>\n",
       "      <td>0</td>\n",
       "      <td>0</td>\n",
       "      <td>0</td>\n",
       "      <td>0</td>\n",
       "      <td>0</td>\n",
       "      <td>0</td>\n",
       "      <td>0</td>\n",
       "      <td>0</td>\n",
       "      <td>0</td>\n",
       "      <td>0</td>\n",
       "    </tr>\n",
       "    <tr>\n",
       "      <th>7</th>\n",
       "      <td>B002-C001-0001</td>\n",
       "      <td>B002-C002-0001</td>\n",
       "      <td>B002-C003-0003</td>\n",
       "      <td>B002-00003</td>\n",
       "      <td>0</td>\n",
       "      <td>0</td>\n",
       "      <td>0</td>\n",
       "      <td>0</td>\n",
       "      <td>0</td>\n",
       "      <td>0</td>\n",
       "      <td>...</td>\n",
       "      <td>0</td>\n",
       "      <td>0</td>\n",
       "      <td>0</td>\n",
       "      <td>0</td>\n",
       "      <td>0</td>\n",
       "      <td>0</td>\n",
       "      <td>0</td>\n",
       "      <td>0</td>\n",
       "      <td>0</td>\n",
       "      <td>0</td>\n",
       "    </tr>\n",
       "    <tr>\n",
       "      <th>8</th>\n",
       "      <td>B002-C001-0001</td>\n",
       "      <td>B002-C002-0001</td>\n",
       "      <td>B002-C003-0003</td>\n",
       "      <td>B002-00003</td>\n",
       "      <td>0</td>\n",
       "      <td>0</td>\n",
       "      <td>0</td>\n",
       "      <td>15</td>\n",
       "      <td>16</td>\n",
       "      <td>23</td>\n",
       "      <td>...</td>\n",
       "      <td>0</td>\n",
       "      <td>0</td>\n",
       "      <td>0</td>\n",
       "      <td>0</td>\n",
       "      <td>0</td>\n",
       "      <td>0</td>\n",
       "      <td>0</td>\n",
       "      <td>0</td>\n",
       "      <td>0</td>\n",
       "      <td>1</td>\n",
       "    </tr>\n",
       "    <tr>\n",
       "      <th>9</th>\n",
       "      <td>B002-C001-0001</td>\n",
       "      <td>B002-C002-0001</td>\n",
       "      <td>B002-C003-0003</td>\n",
       "      <td>B002-00003</td>\n",
       "      <td>0</td>\n",
       "      <td>0</td>\n",
       "      <td>0</td>\n",
       "      <td>0</td>\n",
       "      <td>0</td>\n",
       "      <td>0</td>\n",
       "      <td>...</td>\n",
       "      <td>0</td>\n",
       "      <td>0</td>\n",
       "      <td>0</td>\n",
       "      <td>0</td>\n",
       "      <td>0</td>\n",
       "      <td>0</td>\n",
       "      <td>0</td>\n",
       "      <td>0</td>\n",
       "      <td>0</td>\n",
       "      <td>0</td>\n",
       "    </tr>\n",
       "  </tbody>\n",
       "</table>\n",
       "<p>10 rows × 463 columns</p>\n",
       "</div>"
      ],
      "text/plain": [
       "              대분류             중분류             소분류         브랜드  2022-01-01  \\\n",
       "0  B002-C001-0002  B002-C002-0007  B002-C003-0038  B002-00001           0   \n",
       "1  B002-C001-0003  B002-C002-0008  B002-C003-0044  B002-00002           0   \n",
       "2  B002-C001-0003  B002-C002-0008  B002-C003-0044  B002-00002           0   \n",
       "3  B002-C001-0003  B002-C002-0008  B002-C003-0044  B002-00002           0   \n",
       "4  B002-C001-0001  B002-C002-0001  B002-C003-0003  B002-00003           0   \n",
       "5  B002-C001-0001  B002-C002-0001  B002-C003-0003  B002-00003           0   \n",
       "6  B002-C001-0001  B002-C002-0001  B002-C003-0003  B002-00003           0   \n",
       "7  B002-C001-0001  B002-C002-0001  B002-C003-0003  B002-00003           0   \n",
       "8  B002-C001-0001  B002-C002-0001  B002-C003-0003  B002-00003           0   \n",
       "9  B002-C001-0001  B002-C002-0001  B002-C003-0003  B002-00003           0   \n",
       "\n",
       "   2022-01-02  2022-01-03  2022-01-04  2022-01-05  2022-01-06  ...  \\\n",
       "0           0           0           0           0           0  ...   \n",
       "1           0           0           0           0           0  ...   \n",
       "2           0           0           0           0           0  ...   \n",
       "3           0           0           0           0           0  ...   \n",
       "4           0           0           0           0           0  ...   \n",
       "5           0           0           0           0           0  ...   \n",
       "6           0           0           7          21          16  ...   \n",
       "7           0           0           0           0           0  ...   \n",
       "8           0           0          15          16          23  ...   \n",
       "9           0           0           0           0           0  ...   \n",
       "\n",
       "   2023-03-26  2023-03-27  2023-03-28  2023-03-29  2023-03-30  2023-03-31  \\\n",
       "0           0           0           0           0           0           0   \n",
       "1           0           0           0           1           3           2   \n",
       "2           0           0           0           0           0           0   \n",
       "3           0           0           0           0           0           0   \n",
       "4           0           0           0           0           0           0   \n",
       "5           0           0           0           0           0           0   \n",
       "6           0           0           0           0           0           0   \n",
       "7           0           0           0           0           0           0   \n",
       "8           0           0           0           0           0           0   \n",
       "9           0           0           0           0           0           0   \n",
       "\n",
       "   2023-04-01  2023-04-02  2023-04-03  2023-04-04  \n",
       "0           0           0           0           0  \n",
       "1           0           0           2           0  \n",
       "2           0           0           0           0  \n",
       "3           0           0           0           0  \n",
       "4           0           0           0           0  \n",
       "5           0           0           0           0  \n",
       "6           0           0           0           0  \n",
       "7           0           0           0           0  \n",
       "8           0           0           0           1  \n",
       "9           0           0           0           0  \n",
       "\n",
       "[10 rows x 463 columns]"
      ]
     },
     "execution_count": 11,
     "metadata": {},
     "output_type": "execute_result"
    }
   ],
   "source": [
    "train_data.head(10)"
   ]
  },
  {
   "cell_type": "code",
   "execution_count": 12,
   "id": "62547772",
   "metadata": {},
   "outputs": [
    {
     "name": "stdout",
     "output_type": "stream",
     "text": [
      "<class 'pandas.core.frame.DataFrame'>\n",
      "RangeIndex: 15890 entries, 0 to 15889\n",
      "Columns: 463 entries, 대분류 to 2023-04-04\n",
      "dtypes: int64(459), object(4)\n",
      "memory usage: 56.1+ MB\n"
     ]
    }
   ],
   "source": [
    "train_data.info()"
   ]
  },
  {
   "cell_type": "code",
   "execution_count": 13,
   "id": "1291116c",
   "metadata": {},
   "outputs": [
    {
     "data": {
      "text/html": [
       "<div>\n",
       "<style scoped>\n",
       "    .dataframe tbody tr th:only-of-type {\n",
       "        vertical-align: middle;\n",
       "    }\n",
       "\n",
       "    .dataframe tbody tr th {\n",
       "        vertical-align: top;\n",
       "    }\n",
       "\n",
       "    .dataframe thead th {\n",
       "        text-align: right;\n",
       "    }\n",
       "</style>\n",
       "<table border=\"1\" class=\"dataframe\">\n",
       "  <thead>\n",
       "    <tr style=\"text-align: right;\">\n",
       "      <th></th>\n",
       "      <th>2022-01-01</th>\n",
       "      <th>2022-01-02</th>\n",
       "      <th>2022-01-03</th>\n",
       "      <th>2022-01-04</th>\n",
       "      <th>2022-01-05</th>\n",
       "      <th>2022-01-06</th>\n",
       "      <th>2022-01-07</th>\n",
       "      <th>2022-01-08</th>\n",
       "      <th>2022-01-09</th>\n",
       "      <th>2022-01-10</th>\n",
       "      <th>...</th>\n",
       "      <th>2023-03-26</th>\n",
       "      <th>2023-03-27</th>\n",
       "      <th>2023-03-28</th>\n",
       "      <th>2023-03-29</th>\n",
       "      <th>2023-03-30</th>\n",
       "      <th>2023-03-31</th>\n",
       "      <th>2023-04-01</th>\n",
       "      <th>2023-04-02</th>\n",
       "      <th>2023-04-03</th>\n",
       "      <th>2023-04-04</th>\n",
       "    </tr>\n",
       "  </thead>\n",
       "  <tbody>\n",
       "    <tr>\n",
       "      <th>count</th>\n",
       "      <td>15890.000000</td>\n",
       "      <td>15890.000000</td>\n",
       "      <td>15890.00000</td>\n",
       "      <td>15890.000000</td>\n",
       "      <td>15890.000000</td>\n",
       "      <td>15890.000000</td>\n",
       "      <td>15890.000000</td>\n",
       "      <td>15890.000000</td>\n",
       "      <td>15890.000000</td>\n",
       "      <td>15890.000000</td>\n",
       "      <td>...</td>\n",
       "      <td>15890.000000</td>\n",
       "      <td>15890.000000</td>\n",
       "      <td>15890.000000</td>\n",
       "      <td>15890.000000</td>\n",
       "      <td>15890.000000</td>\n",
       "      <td>15890.000000</td>\n",
       "      <td>15890.000000</td>\n",
       "      <td>15890.000000</td>\n",
       "      <td>15890.000000</td>\n",
       "      <td>15890.000000</td>\n",
       "    </tr>\n",
       "    <tr>\n",
       "      <th>mean</th>\n",
       "      <td>12.887476</td>\n",
       "      <td>10.418880</td>\n",
       "      <td>9.01309</td>\n",
       "      <td>9.190938</td>\n",
       "      <td>11.204216</td>\n",
       "      <td>12.486281</td>\n",
       "      <td>12.933103</td>\n",
       "      <td>12.832599</td>\n",
       "      <td>13.326935</td>\n",
       "      <td>12.049843</td>\n",
       "      <td>...</td>\n",
       "      <td>0.501699</td>\n",
       "      <td>0.483260</td>\n",
       "      <td>0.473694</td>\n",
       "      <td>9.498175</td>\n",
       "      <td>9.370044</td>\n",
       "      <td>7.706293</td>\n",
       "      <td>7.123033</td>\n",
       "      <td>6.975456</td>\n",
       "      <td>9.040340</td>\n",
       "      <td>10.031026</td>\n",
       "    </tr>\n",
       "    <tr>\n",
       "      <th>std</th>\n",
       "      <td>183.612376</td>\n",
       "      <td>149.663362</td>\n",
       "      <td>95.82452</td>\n",
       "      <td>86.274138</td>\n",
       "      <td>92.072773</td>\n",
       "      <td>108.478567</td>\n",
       "      <td>135.615709</td>\n",
       "      <td>233.900622</td>\n",
       "      <td>242.761978</td>\n",
       "      <td>242.326264</td>\n",
       "      <td>...</td>\n",
       "      <td>8.853648</td>\n",
       "      <td>8.911203</td>\n",
       "      <td>8.567765</td>\n",
       "      <td>93.854552</td>\n",
       "      <td>90.632349</td>\n",
       "      <td>68.413621</td>\n",
       "      <td>68.629350</td>\n",
       "      <td>59.826757</td>\n",
       "      <td>73.637191</td>\n",
       "      <td>103.256072</td>\n",
       "    </tr>\n",
       "    <tr>\n",
       "      <th>min</th>\n",
       "      <td>0.000000</td>\n",
       "      <td>0.000000</td>\n",
       "      <td>0.00000</td>\n",
       "      <td>0.000000</td>\n",
       "      <td>0.000000</td>\n",
       "      <td>0.000000</td>\n",
       "      <td>0.000000</td>\n",
       "      <td>0.000000</td>\n",
       "      <td>0.000000</td>\n",
       "      <td>0.000000</td>\n",
       "      <td>...</td>\n",
       "      <td>0.000000</td>\n",
       "      <td>0.000000</td>\n",
       "      <td>0.000000</td>\n",
       "      <td>0.000000</td>\n",
       "      <td>0.000000</td>\n",
       "      <td>0.000000</td>\n",
       "      <td>0.000000</td>\n",
       "      <td>0.000000</td>\n",
       "      <td>0.000000</td>\n",
       "      <td>0.000000</td>\n",
       "    </tr>\n",
       "    <tr>\n",
       "      <th>25%</th>\n",
       "      <td>0.000000</td>\n",
       "      <td>0.000000</td>\n",
       "      <td>0.00000</td>\n",
       "      <td>0.000000</td>\n",
       "      <td>0.000000</td>\n",
       "      <td>0.000000</td>\n",
       "      <td>0.000000</td>\n",
       "      <td>0.000000</td>\n",
       "      <td>0.000000</td>\n",
       "      <td>0.000000</td>\n",
       "      <td>...</td>\n",
       "      <td>0.000000</td>\n",
       "      <td>0.000000</td>\n",
       "      <td>0.000000</td>\n",
       "      <td>0.000000</td>\n",
       "      <td>0.000000</td>\n",
       "      <td>0.000000</td>\n",
       "      <td>0.000000</td>\n",
       "      <td>0.000000</td>\n",
       "      <td>0.000000</td>\n",
       "      <td>0.000000</td>\n",
       "    </tr>\n",
       "    <tr>\n",
       "      <th>50%</th>\n",
       "      <td>0.000000</td>\n",
       "      <td>0.000000</td>\n",
       "      <td>0.00000</td>\n",
       "      <td>0.000000</td>\n",
       "      <td>0.000000</td>\n",
       "      <td>0.000000</td>\n",
       "      <td>0.000000</td>\n",
       "      <td>0.000000</td>\n",
       "      <td>0.000000</td>\n",
       "      <td>0.000000</td>\n",
       "      <td>...</td>\n",
       "      <td>0.000000</td>\n",
       "      <td>0.000000</td>\n",
       "      <td>0.000000</td>\n",
       "      <td>0.000000</td>\n",
       "      <td>0.000000</td>\n",
       "      <td>0.000000</td>\n",
       "      <td>0.000000</td>\n",
       "      <td>0.000000</td>\n",
       "      <td>0.000000</td>\n",
       "      <td>0.000000</td>\n",
       "    </tr>\n",
       "    <tr>\n",
       "      <th>75%</th>\n",
       "      <td>0.000000</td>\n",
       "      <td>0.000000</td>\n",
       "      <td>0.00000</td>\n",
       "      <td>0.000000</td>\n",
       "      <td>1.000000</td>\n",
       "      <td>1.000000</td>\n",
       "      <td>1.000000</td>\n",
       "      <td>1.000000</td>\n",
       "      <td>1.000000</td>\n",
       "      <td>1.000000</td>\n",
       "      <td>...</td>\n",
       "      <td>0.000000</td>\n",
       "      <td>0.000000</td>\n",
       "      <td>0.000000</td>\n",
       "      <td>0.000000</td>\n",
       "      <td>0.000000</td>\n",
       "      <td>0.000000</td>\n",
       "      <td>0.000000</td>\n",
       "      <td>0.000000</td>\n",
       "      <td>1.000000</td>\n",
       "      <td>1.000000</td>\n",
       "    </tr>\n",
       "    <tr>\n",
       "      <th>max</th>\n",
       "      <td>15056.000000</td>\n",
       "      <td>14320.000000</td>\n",
       "      <td>6064.00000</td>\n",
       "      <td>4470.000000</td>\n",
       "      <td>6370.000000</td>\n",
       "      <td>8210.000000</td>\n",
       "      <td>9712.000000</td>\n",
       "      <td>24512.000000</td>\n",
       "      <td>24032.000000</td>\n",
       "      <td>24960.000000</td>\n",
       "      <td>...</td>\n",
       "      <td>700.000000</td>\n",
       "      <td>660.000000</td>\n",
       "      <td>660.000000</td>\n",
       "      <td>4308.000000</td>\n",
       "      <td>4596.000000</td>\n",
       "      <td>3960.000000</td>\n",
       "      <td>4224.000000</td>\n",
       "      <td>2700.000000</td>\n",
       "      <td>3045.000000</td>\n",
       "      <td>6048.000000</td>\n",
       "    </tr>\n",
       "  </tbody>\n",
       "</table>\n",
       "<p>8 rows × 459 columns</p>\n",
       "</div>"
      ],
      "text/plain": [
       "         2022-01-01    2022-01-02   2022-01-03    2022-01-04    2022-01-05  \\\n",
       "count  15890.000000  15890.000000  15890.00000  15890.000000  15890.000000   \n",
       "mean      12.887476     10.418880      9.01309      9.190938     11.204216   \n",
       "std      183.612376    149.663362     95.82452     86.274138     92.072773   \n",
       "min        0.000000      0.000000      0.00000      0.000000      0.000000   \n",
       "25%        0.000000      0.000000      0.00000      0.000000      0.000000   \n",
       "50%        0.000000      0.000000      0.00000      0.000000      0.000000   \n",
       "75%        0.000000      0.000000      0.00000      0.000000      1.000000   \n",
       "max    15056.000000  14320.000000   6064.00000   4470.000000   6370.000000   \n",
       "\n",
       "         2022-01-06    2022-01-07    2022-01-08    2022-01-09    2022-01-10  \\\n",
       "count  15890.000000  15890.000000  15890.000000  15890.000000  15890.000000   \n",
       "mean      12.486281     12.933103     12.832599     13.326935     12.049843   \n",
       "std      108.478567    135.615709    233.900622    242.761978    242.326264   \n",
       "min        0.000000      0.000000      0.000000      0.000000      0.000000   \n",
       "25%        0.000000      0.000000      0.000000      0.000000      0.000000   \n",
       "50%        0.000000      0.000000      0.000000      0.000000      0.000000   \n",
       "75%        1.000000      1.000000      1.000000      1.000000      1.000000   \n",
       "max     8210.000000   9712.000000  24512.000000  24032.000000  24960.000000   \n",
       "\n",
       "       ...    2023-03-26    2023-03-27    2023-03-28    2023-03-29  \\\n",
       "count  ...  15890.000000  15890.000000  15890.000000  15890.000000   \n",
       "mean   ...      0.501699      0.483260      0.473694      9.498175   \n",
       "std    ...      8.853648      8.911203      8.567765     93.854552   \n",
       "min    ...      0.000000      0.000000      0.000000      0.000000   \n",
       "25%    ...      0.000000      0.000000      0.000000      0.000000   \n",
       "50%    ...      0.000000      0.000000      0.000000      0.000000   \n",
       "75%    ...      0.000000      0.000000      0.000000      0.000000   \n",
       "max    ...    700.000000    660.000000    660.000000   4308.000000   \n",
       "\n",
       "         2023-03-30    2023-03-31    2023-04-01    2023-04-02    2023-04-03  \\\n",
       "count  15890.000000  15890.000000  15890.000000  15890.000000  15890.000000   \n",
       "mean       9.370044      7.706293      7.123033      6.975456      9.040340   \n",
       "std       90.632349     68.413621     68.629350     59.826757     73.637191   \n",
       "min        0.000000      0.000000      0.000000      0.000000      0.000000   \n",
       "25%        0.000000      0.000000      0.000000      0.000000      0.000000   \n",
       "50%        0.000000      0.000000      0.000000      0.000000      0.000000   \n",
       "75%        0.000000      0.000000      0.000000      0.000000      1.000000   \n",
       "max     4596.000000   3960.000000   4224.000000   2700.000000   3045.000000   \n",
       "\n",
       "         2023-04-04  \n",
       "count  15890.000000  \n",
       "mean      10.031026  \n",
       "std      103.256072  \n",
       "min        0.000000  \n",
       "25%        0.000000  \n",
       "50%        0.000000  \n",
       "75%        1.000000  \n",
       "max     6048.000000  \n",
       "\n",
       "[8 rows x 459 columns]"
      ]
     },
     "execution_count": 13,
     "metadata": {},
     "output_type": "execute_result"
    }
   ],
   "source": [
    "train_data.describe()"
   ]
  },
  {
   "cell_type": "code",
   "execution_count": 14,
   "id": "4889af05",
   "metadata": {},
   "outputs": [
    {
     "data": {
      "text/html": [
       "<div>\n",
       "<style scoped>\n",
       "    .dataframe tbody tr th:only-of-type {\n",
       "        vertical-align: middle;\n",
       "    }\n",
       "\n",
       "    .dataframe tbody tr th {\n",
       "        vertical-align: top;\n",
       "    }\n",
       "\n",
       "    .dataframe thead th {\n",
       "        text-align: right;\n",
       "    }\n",
       "</style>\n",
       "<table border=\"1\" class=\"dataframe\">\n",
       "  <thead>\n",
       "    <tr style=\"text-align: right;\">\n",
       "      <th></th>\n",
       "      <th>브랜드</th>\n",
       "      <th>2022-01-01</th>\n",
       "      <th>2022-01-02</th>\n",
       "      <th>2022-01-03</th>\n",
       "      <th>2022-01-04</th>\n",
       "      <th>2022-01-05</th>\n",
       "      <th>2022-01-06</th>\n",
       "      <th>2022-01-07</th>\n",
       "      <th>2022-01-08</th>\n",
       "      <th>2022-01-09</th>\n",
       "      <th>...</th>\n",
       "      <th>2023-03-26</th>\n",
       "      <th>2023-03-27</th>\n",
       "      <th>2023-03-28</th>\n",
       "      <th>2023-03-29</th>\n",
       "      <th>2023-03-30</th>\n",
       "      <th>2023-03-31</th>\n",
       "      <th>2023-04-01</th>\n",
       "      <th>2023-04-02</th>\n",
       "      <th>2023-04-03</th>\n",
       "      <th>2023-04-04</th>\n",
       "    </tr>\n",
       "  </thead>\n",
       "  <tbody>\n",
       "    <tr>\n",
       "      <th>0</th>\n",
       "      <td>B002-00001</td>\n",
       "      <td>0.84131</td>\n",
       "      <td>0.91383</td>\n",
       "      <td>1.45053</td>\n",
       "      <td>2.42239</td>\n",
       "      <td>1.87119</td>\n",
       "      <td>1.58108</td>\n",
       "      <td>1.23295</td>\n",
       "      <td>1.17493</td>\n",
       "      <td>1.14592</td>\n",
       "      <td>...</td>\n",
       "      <td>0.31911</td>\n",
       "      <td>0.39164</td>\n",
       "      <td>0.37713</td>\n",
       "      <td>0.49318</td>\n",
       "      <td>0.07252</td>\n",
       "      <td>0.29010</td>\n",
       "      <td>0.31911</td>\n",
       "      <td>0.23208</td>\n",
       "      <td>0.33362</td>\n",
       "      <td>0.44966</td>\n",
       "    </tr>\n",
       "    <tr>\n",
       "      <th>1</th>\n",
       "      <td>B002-00002</td>\n",
       "      <td>12.64868</td>\n",
       "      <td>20.27850</td>\n",
       "      <td>15.33217</td>\n",
       "      <td>12.75021</td>\n",
       "      <td>13.56251</td>\n",
       "      <td>13.70757</td>\n",
       "      <td>11.93791</td>\n",
       "      <td>15.56425</td>\n",
       "      <td>14.08471</td>\n",
       "      <td>...</td>\n",
       "      <td>10.26979</td>\n",
       "      <td>11.96692</td>\n",
       "      <td>10.64693</td>\n",
       "      <td>10.41485</td>\n",
       "      <td>10.48738</td>\n",
       "      <td>9.48651</td>\n",
       "      <td>9.28343</td>\n",
       "      <td>10.42935</td>\n",
       "      <td>11.15462</td>\n",
       "      <td>11.38671</td>\n",
       "    </tr>\n",
       "  </tbody>\n",
       "</table>\n",
       "<p>2 rows × 460 columns</p>\n",
       "</div>"
      ],
      "text/plain": [
       "          브랜드  2022-01-01  2022-01-02  2022-01-03  2022-01-04  2022-01-05  \\\n",
       "0  B002-00001     0.84131     0.91383     1.45053     2.42239     1.87119   \n",
       "1  B002-00002    12.64868    20.27850    15.33217    12.75021    13.56251   \n",
       "\n",
       "   2022-01-06  2022-01-07  2022-01-08  2022-01-09  ...  2023-03-26  \\\n",
       "0     1.58108     1.23295     1.17493     1.14592  ...     0.31911   \n",
       "1    13.70757    11.93791    15.56425    14.08471  ...    10.26979   \n",
       "\n",
       "   2023-03-27  2023-03-28  2023-03-29  2023-03-30  2023-03-31  2023-04-01  \\\n",
       "0     0.39164     0.37713     0.49318     0.07252     0.29010     0.31911   \n",
       "1    11.96692    10.64693    10.41485    10.48738     9.48651     9.28343   \n",
       "\n",
       "   2023-04-02  2023-04-03  2023-04-04  \n",
       "0     0.23208     0.33362     0.44966  \n",
       "1    10.42935    11.15462    11.38671  \n",
       "\n",
       "[2 rows x 460 columns]"
      ]
     },
     "execution_count": 14,
     "metadata": {},
     "output_type": "execute_result"
    }
   ],
   "source": [
    "brand_keyword_cnt.head(2)"
   ]
  },
  {
   "cell_type": "markdown",
   "id": "d21e80a6",
   "metadata": {},
   "source": [
    "### 데이터 전처리"
   ]
  },
  {
   "cell_type": "code",
   "execution_count": 15,
   "id": "277c92aa",
   "metadata": {},
   "outputs": [],
   "source": [
    "# # 숫자형 변수들의 min-max scaling을 수행하는 코드입니다.\n",
    "# numeric_cols = train_data.columns[4:]\n",
    "# # 칵 column의 min 및 max 계산\n",
    "# min_values = train_data[numeric_cols].min(axis=1)\n",
    "# max_values = train_data[numeric_cols].max(axis=1)\n",
    "# # 각 행의 범위(max-min)를 계산하고, 범위가 0인 경우 1로 대체\n",
    "# ranges = max_values - min_values\n",
    "# ranges[ranges == 0] = 1\n",
    "# # min-max scaling 수행\n",
    "# train_data[numeric_cols] = (train_data[numeric_cols].subtract(min_values, axis=0)).div(ranges, axis=0)\n",
    "# # max와 min 값을 dictionary 형태로 저장\n",
    "# scale_min_dict = min_values.to_dict()\n",
    "# scale_max_dict = max_values.to_dict()"
   ]
  },
  {
   "cell_type": "code",
   "execution_count": null,
   "id": "4c8871eb",
   "metadata": {},
   "outputs": [],
   "source": []
  },
  {
   "cell_type": "markdown",
   "id": "9e81bd47",
   "metadata": {},
   "source": [
    "# 새로 시도해볼 전처리 방식 - 분모를 0이 되는 것을 방지"
   ]
  },
  {
   "cell_type": "code",
   "execution_count": 16,
   "id": "a02ca7d7",
   "metadata": {},
   "outputs": [],
   "source": [
    "import pandas as pd\n",
    "\n",
    "# 더 작은 값을 추가하여 분모가 0인 경우 방지하는 상수 정의\n",
    "EPSILON = 1e-8\n",
    "\n",
    "numeric_cols = train_data.columns[4:]\n",
    "\n",
    "# 칵 column의 min 및 max 계산\n",
    "min_values = train_data[numeric_cols].min(axis=1)\n",
    "max_values = train_data[numeric_cols].max(axis=1)\n",
    "\n",
    "# 각 행의 범위(max-min)를 계산하고, 범위가 0인 경우 EPSILON 더해주기\n",
    "ranges = max_values - min_values + EPSILON\n",
    "\n",
    "# min-max scaling 수행\n",
    "scaled_data = (train_data[numeric_cols].subtract(min_values, axis=0)).div(ranges, axis=0)\n",
    "\n",
    "# 스케일링된 데이터로 업데이트\n",
    "train_data[numeric_cols] = scaled_data\n",
    "\n",
    "# max와 min 값을 dictionary 형태로 저장\n",
    "scale_min_dict = min_values.to_dict()\n",
    "scale_max_dict = max_values.to_dict()\n"
   ]
  },
  {
   "cell_type": "code",
   "execution_count": 17,
   "id": "9509bd54-9333-4ec7-b197-b70d3c1408ef",
   "metadata": {},
   "outputs": [],
   "source": [
    "# # Data Scaling\n",
    "# scale_max_dict = {}\n",
    "# scale_min_dict = {}\n",
    "\n",
    "# for idx in tqdm(range(len(train_data))):\n",
    "#     maxi = np.max(train_data.iloc[idx,4:])\n",
    "#     mini = np.min(train_data.iloc[idx,4:])\n",
    "    \n",
    "#     if maxi == mini :\n",
    "#         train_data.iloc[idx,4:] = 0\n",
    "#     else:\n",
    "#         train_data.iloc[idx,4:] = (train_data.iloc[idx,4:] - mini) / (maxi - mini)\n",
    "    \n",
    "#     scale_max_dict[idx] = maxi\n",
    "#     scale_min_dict[idx] = mini"
   ]
  },
  {
   "cell_type": "code",
   "execution_count": 18,
   "id": "7c83c51b-f979-4930-9372-f03bdb33abc5",
   "metadata": {},
   "outputs": [],
   "source": [
    "# Label Encoding\n",
    "label_encoder = LabelEncoder()\n",
    "categorical_columns = ['대분류', '중분류', '소분류', '브랜드']\n",
    "\n",
    "for col in categorical_columns:\n",
    "    label_encoder.fit(train_data[col])\n",
    "    train_data[col] = label_encoder.transform(train_data[col])"
   ]
  },
  {
   "cell_type": "code",
   "execution_count": 19,
   "id": "debff992-a1f4-4ade-b2e9-45b234e44412",
   "metadata": {},
   "outputs": [],
   "source": [
    "def make_train_data(data, train_size=CFG['TRAIN_WINDOW_SIZE'], predict_size=CFG['PREDICT_SIZE']):\n",
    "    '''\n",
    "    학습 기간 블럭, 예측 기간 블럭의 세트로 데이터를 생성\n",
    "    data : 일별 판매량\n",
    "    train_size : 학습에 활용할 기간\n",
    "    predict_size : 추론할 기간\n",
    "    '''\n",
    "    num_rows = len(data)\n",
    "    window_size = train_size + predict_size\n",
    "    \n",
    "    input_data = np.empty((num_rows * (len(data.columns) - window_size + 1), train_size, len(data.iloc[0, :4]) + 1))\n",
    "    target_data = np.empty((num_rows * (len(data.columns) - window_size + 1), predict_size))\n",
    "    \n",
    "    for i in tqdm(range(num_rows)):\n",
    "        encode_info = np.array(data.iloc[i, :4])\n",
    "        sales_data = np.array(data.iloc[i, 4:])\n",
    "        \n",
    "        for j in range(len(sales_data) - window_size + 1):\n",
    "            window = sales_data[j : j + window_size]\n",
    "            temp_data = np.column_stack((np.tile(encode_info, (train_size, 1)), window[:train_size]))\n",
    "            input_data[i * (len(data.columns) - window_size + 1) + j] = temp_data\n",
    "            target_data[i * (len(data.columns) - window_size + 1) + j] = window[train_size:]\n",
    "    \n",
    "    return input_data, target_data"
   ]
  },
  {
   "cell_type": "code",
   "execution_count": 20,
   "id": "9bf39b0f-64f4-4126-9a3d-da5de9f624d5",
   "metadata": {},
   "outputs": [],
   "source": [
    "def make_predict_data(data, train_size=CFG['TRAIN_WINDOW_SIZE']):\n",
    "    '''\n",
    "    평가 데이터(Test Dataset)를 추론하기 위한 Input 데이터를 생성\n",
    "    data : 일별 판매량\n",
    "    train_size : 추론을 위해 필요한 일별 판매량 기간 (= 학습에 활용할 기간)\n",
    "    '''\n",
    "    num_rows = len(data)\n",
    "    \n",
    "    input_data = np.empty((num_rows, train_size, len(data.iloc[0, :4]) + 1))\n",
    "    \n",
    "    for i in tqdm(range(num_rows)):\n",
    "        encode_info = np.array(data.iloc[i, :4])\n",
    "        sales_data = np.array(data.iloc[i, -train_size:])\n",
    "        \n",
    "        window = sales_data[-train_size : ]\n",
    "        temp_data = np.column_stack((np.tile(encode_info, (train_size, 1)), window[:train_size]))\n",
    "        input_data[i] = temp_data\n",
    "    \n",
    "    return input_data"
   ]
  },
  {
   "cell_type": "code",
   "execution_count": 21,
   "id": "f457efc1",
   "metadata": {},
   "outputs": [
    {
     "data": {
      "text/html": [
       "<div>\n",
       "<style scoped>\n",
       "    .dataframe tbody tr th:only-of-type {\n",
       "        vertical-align: middle;\n",
       "    }\n",
       "\n",
       "    .dataframe tbody tr th {\n",
       "        vertical-align: top;\n",
       "    }\n",
       "\n",
       "    .dataframe thead th {\n",
       "        text-align: right;\n",
       "    }\n",
       "</style>\n",
       "<table border=\"1\" class=\"dataframe\">\n",
       "  <thead>\n",
       "    <tr style=\"text-align: right;\">\n",
       "      <th></th>\n",
       "      <th>대분류</th>\n",
       "      <th>중분류</th>\n",
       "      <th>소분류</th>\n",
       "      <th>브랜드</th>\n",
       "      <th>2022-01-01</th>\n",
       "      <th>2022-01-02</th>\n",
       "      <th>2022-01-03</th>\n",
       "      <th>2022-01-04</th>\n",
       "      <th>2022-01-05</th>\n",
       "      <th>2022-01-06</th>\n",
       "      <th>...</th>\n",
       "      <th>2023-03-26</th>\n",
       "      <th>2023-03-27</th>\n",
       "      <th>2023-03-28</th>\n",
       "      <th>2023-03-29</th>\n",
       "      <th>2023-03-30</th>\n",
       "      <th>2023-03-31</th>\n",
       "      <th>2023-04-01</th>\n",
       "      <th>2023-04-02</th>\n",
       "      <th>2023-04-03</th>\n",
       "      <th>2023-04-04</th>\n",
       "    </tr>\n",
       "  </thead>\n",
       "  <tbody>\n",
       "    <tr>\n",
       "      <th>15885</th>\n",
       "      <td>2</td>\n",
       "      <td>7</td>\n",
       "      <td>41</td>\n",
       "      <td>3169</td>\n",
       "      <td>0.0</td>\n",
       "      <td>0.0</td>\n",
       "      <td>0.0</td>\n",
       "      <td>0.0</td>\n",
       "      <td>0.0</td>\n",
       "      <td>0.0</td>\n",
       "      <td>...</td>\n",
       "      <td>0.0</td>\n",
       "      <td>0.0</td>\n",
       "      <td>0.0</td>\n",
       "      <td>0.00000</td>\n",
       "      <td>0.0</td>\n",
       "      <td>0.00000</td>\n",
       "      <td>0.00000</td>\n",
       "      <td>0.00000</td>\n",
       "      <td>0.00000</td>\n",
       "      <td>0.000000</td>\n",
       "    </tr>\n",
       "    <tr>\n",
       "      <th>15886</th>\n",
       "      <td>2</td>\n",
       "      <td>7</td>\n",
       "      <td>43</td>\n",
       "      <td>3169</td>\n",
       "      <td>0.0</td>\n",
       "      <td>0.0</td>\n",
       "      <td>0.0</td>\n",
       "      <td>0.0</td>\n",
       "      <td>0.0</td>\n",
       "      <td>0.0</td>\n",
       "      <td>...</td>\n",
       "      <td>0.0</td>\n",
       "      <td>0.0</td>\n",
       "      <td>0.0</td>\n",
       "      <td>0.02439</td>\n",
       "      <td>0.0</td>\n",
       "      <td>0.01626</td>\n",
       "      <td>0.03252</td>\n",
       "      <td>0.00813</td>\n",
       "      <td>0.00813</td>\n",
       "      <td>0.024390</td>\n",
       "    </tr>\n",
       "    <tr>\n",
       "      <th>15887</th>\n",
       "      <td>2</td>\n",
       "      <td>7</td>\n",
       "      <td>43</td>\n",
       "      <td>3169</td>\n",
       "      <td>0.0</td>\n",
       "      <td>0.0</td>\n",
       "      <td>0.0</td>\n",
       "      <td>0.0</td>\n",
       "      <td>0.0</td>\n",
       "      <td>0.0</td>\n",
       "      <td>...</td>\n",
       "      <td>0.0</td>\n",
       "      <td>0.0</td>\n",
       "      <td>0.0</td>\n",
       "      <td>0.00000</td>\n",
       "      <td>0.0</td>\n",
       "      <td>0.00000</td>\n",
       "      <td>0.00000</td>\n",
       "      <td>0.00000</td>\n",
       "      <td>0.00000</td>\n",
       "      <td>0.000000</td>\n",
       "    </tr>\n",
       "    <tr>\n",
       "      <th>15888</th>\n",
       "      <td>2</td>\n",
       "      <td>7</td>\n",
       "      <td>43</td>\n",
       "      <td>3169</td>\n",
       "      <td>0.0</td>\n",
       "      <td>0.0</td>\n",
       "      <td>0.0</td>\n",
       "      <td>0.0</td>\n",
       "      <td>0.0</td>\n",
       "      <td>0.0</td>\n",
       "      <td>...</td>\n",
       "      <td>0.0</td>\n",
       "      <td>0.0</td>\n",
       "      <td>0.0</td>\n",
       "      <td>0.00000</td>\n",
       "      <td>0.0</td>\n",
       "      <td>0.00000</td>\n",
       "      <td>0.00000</td>\n",
       "      <td>0.00000</td>\n",
       "      <td>0.00000</td>\n",
       "      <td>0.142857</td>\n",
       "    </tr>\n",
       "    <tr>\n",
       "      <th>15889</th>\n",
       "      <td>1</td>\n",
       "      <td>3</td>\n",
       "      <td>19</td>\n",
       "      <td>3169</td>\n",
       "      <td>0.0</td>\n",
       "      <td>0.0</td>\n",
       "      <td>0.0</td>\n",
       "      <td>0.0</td>\n",
       "      <td>0.0</td>\n",
       "      <td>0.0</td>\n",
       "      <td>...</td>\n",
       "      <td>0.0</td>\n",
       "      <td>0.0</td>\n",
       "      <td>0.0</td>\n",
       "      <td>0.00000</td>\n",
       "      <td>0.0</td>\n",
       "      <td>0.00000</td>\n",
       "      <td>0.00000</td>\n",
       "      <td>0.00000</td>\n",
       "      <td>0.00000</td>\n",
       "      <td>0.000000</td>\n",
       "    </tr>\n",
       "  </tbody>\n",
       "</table>\n",
       "<p>5 rows × 463 columns</p>\n",
       "</div>"
      ],
      "text/plain": [
       "       대분류  중분류  소분류   브랜드  2022-01-01  2022-01-02  2022-01-03  2022-01-04  \\\n",
       "15885    2    7   41  3169         0.0         0.0         0.0         0.0   \n",
       "15886    2    7   43  3169         0.0         0.0         0.0         0.0   \n",
       "15887    2    7   43  3169         0.0         0.0         0.0         0.0   \n",
       "15888    2    7   43  3169         0.0         0.0         0.0         0.0   \n",
       "15889    1    3   19  3169         0.0         0.0         0.0         0.0   \n",
       "\n",
       "       2022-01-05  2022-01-06  ...  2023-03-26  2023-03-27  2023-03-28  \\\n",
       "15885         0.0         0.0  ...         0.0         0.0         0.0   \n",
       "15886         0.0         0.0  ...         0.0         0.0         0.0   \n",
       "15887         0.0         0.0  ...         0.0         0.0         0.0   \n",
       "15888         0.0         0.0  ...         0.0         0.0         0.0   \n",
       "15889         0.0         0.0  ...         0.0         0.0         0.0   \n",
       "\n",
       "       2023-03-29  2023-03-30  2023-03-31  2023-04-01  2023-04-02  2023-04-03  \\\n",
       "15885     0.00000         0.0     0.00000     0.00000     0.00000     0.00000   \n",
       "15886     0.02439         0.0     0.01626     0.03252     0.00813     0.00813   \n",
       "15887     0.00000         0.0     0.00000     0.00000     0.00000     0.00000   \n",
       "15888     0.00000         0.0     0.00000     0.00000     0.00000     0.00000   \n",
       "15889     0.00000         0.0     0.00000     0.00000     0.00000     0.00000   \n",
       "\n",
       "       2023-04-04  \n",
       "15885    0.000000  \n",
       "15886    0.024390  \n",
       "15887    0.000000  \n",
       "15888    0.142857  \n",
       "15889    0.000000  \n",
       "\n",
       "[5 rows x 463 columns]"
      ]
     },
     "execution_count": 21,
     "metadata": {},
     "output_type": "execute_result"
    }
   ],
   "source": [
    "train_data.tail()"
   ]
  },
  {
   "cell_type": "code",
   "execution_count": 22,
   "id": "3c203f18-dfe9-430a-8082-f1143267b296",
   "metadata": {},
   "outputs": [
    {
     "name": "stderr",
     "output_type": "stream",
     "text": [
      "  0%|          | 0/15890 [00:00<?, ?it/s]"
     ]
    },
    {
     "name": "stderr",
     "output_type": "stream",
     "text": [
      "100%|██████████| 15890/15890 [01:29<00:00, 177.90it/s]\n",
      "100%|██████████| 15890/15890 [00:19<00:00, 834.08it/s]\n"
     ]
    }
   ],
   "source": [
    "train_input, train_target = make_train_data(train_data)\n",
    "test_input = make_predict_data(train_data)"
   ]
  },
  {
   "cell_type": "code",
   "execution_count": 23,
   "id": "56691600",
   "metadata": {},
   "outputs": [],
   "source": [
    "data_len = len(train_input)\n",
    "val_ratio = 0.1\n",
    "test_ratio = 0.1\n",
    "\n",
    "val_len = int(data_len * val_ratio)\n",
    "test_len = int(data_len * test_ratio)\n",
    "\n",
    "val_input = train_input[-val_len:]\n",
    "val_target = train_target[-val_len:]\n",
    "\n",
    "train_input = train_input[:-val_len - test_len]\n",
    "train_target = train_target[:-val_len - test_len]\n"
   ]
  },
  {
   "cell_type": "code",
   "execution_count": 24,
   "id": "3c710abd-1be0-4926-803f-c732d7bffdb5",
   "metadata": {},
   "outputs": [],
   "source": [
    "# # Train / Validation Split\n",
    "# data_len = len(train_input)\n",
    "# val_input = train_input[-int(data_len*0.2):]\n",
    "# val_target = train_target[-int(data_len*0.2):]\n",
    "# train_input = train_input[:-int(data_len*0.1)]\n",
    "# train_target = train_target[:-int(data_len*0.1)]"
   ]
  },
  {
   "cell_type": "code",
   "execution_count": 25,
   "id": "3be176ad-ccc8-425c-9627-f583c0647489",
   "metadata": {},
   "outputs": [
    {
     "data": {
      "text/plain": [
       "((4105976, 120, 5),\n",
       " (4105976, 21),\n",
       " (513247, 120, 5),\n",
       " (513247, 21),\n",
       " (15890, 120, 5))"
      ]
     },
     "execution_count": 25,
     "metadata": {},
     "output_type": "execute_result"
    }
   ],
   "source": [
    "train_input.shape, train_target.shape, val_input.shape, val_target.shape, test_input.shape"
   ]
  },
  {
   "cell_type": "markdown",
   "id": "3b2f3d76-fcf4-4866-a578-6bb76783bbed",
   "metadata": {},
   "source": [
    "### Custom Dataset"
   ]
  },
  {
   "cell_type": "code",
   "execution_count": 26,
   "id": "4ec0a970-4d99-486d-b9b5-210f3cdca353",
   "metadata": {},
   "outputs": [],
   "source": [
    "class CustomDataset(Dataset):\n",
    "    def __init__(self, X, Y):\n",
    "        self.X = X\n",
    "        self.Y = Y\n",
    "        \n",
    "    def __getitem__(self, index):\n",
    "        if self.Y is not None:\n",
    "            return torch.Tensor(self.X[index]), torch.Tensor(self.Y[index])\n",
    "        return torch.Tensor(self.X[index])\n",
    "    \n",
    "    def __len__(self):\n",
    "        return len(self.X)"
   ]
  },
  {
   "cell_type": "code",
   "execution_count": 27,
   "id": "3614347b-da14-466f-9d04-b81e5448a9bd",
   "metadata": {},
   "outputs": [],
   "source": [
    "train_dataset = CustomDataset(train_input, train_target)\n",
    "train_loader = DataLoader(train_dataset, batch_size = CFG['BATCH_SIZE'], shuffle=True, num_workers=0)\n",
    "\n",
    "val_dataset = CustomDataset(val_input, val_target)\n",
    "val_loader = DataLoader(val_dataset, batch_size = CFG['BATCH_SIZE'], shuffle=False, num_workers=0)"
   ]
  },
  {
   "cell_type": "markdown",
   "id": "c63f0b66-817d-49ff-9163-a975fb0f239d",
   "metadata": {},
   "source": [
    "### 모델 선언"
   ]
  },
  {
   "cell_type": "markdown",
   "id": "8ac10a87",
   "metadata": {},
   "source": [
    "## GRU 이용"
   ]
  },
  {
   "cell_type": "code",
   "execution_count": 28,
   "id": "7fdc897e",
   "metadata": {},
   "outputs": [],
   "source": [
    "# import torch.nn as nn\n",
    "# import torch\n",
    "\n",
    "# class BaseModel(nn.Module):\n",
    "#     def __init__(self, input_size=5, hidden_size=512, num_layers=2, output_size=CFG['PREDICT_SIZE']):\n",
    "#         super(BaseModel, self).__init__()\n",
    "#         self.hidden_size = hidden_size\n",
    "#         self.num_layers = num_layers\n",
    "#         self.gru = nn.GRU(input_size, hidden_size, num_layers=num_layers, batch_first=True)\n",
    "#         self.fc = nn.Sequential(\n",
    "#             nn.Linear(hidden_size, hidden_size // 2),\n",
    "#             nn.ReLU(),\n",
    "#             nn.Dropout(),\n",
    "#             nn.Linear(hidden_size // 2, output_size)\n",
    "#         )\n",
    "\n",
    "#         self.actv = nn.ReLU()\n",
    "\n",
    "#     def forward(self, x):\n",
    "#         # x shape: (B, TRAIN_WINDOW_SIZE, 5)\n",
    "#         batch_size = x.size(0)\n",
    "#         hidden = self.init_hidden(batch_size, x.device)\n",
    "\n",
    "#         # GRU layer\n",
    "#         gru_out, hidden = self.gru(x, hidden)\n",
    "\n",
    "#         # Only use the last output sequence\n",
    "#         last_output = gru_out[:, -1, :]\n",
    "\n",
    "#         # Fully connected layer\n",
    "#         output = self.actv(self.fc(last_output))\n",
    "\n",
    "#         return output.squeeze(1)\n",
    "\n",
    "#     def init_hidden(self, batch_size, device):\n",
    "#         # Initialize hidden state for all GRU layers\n",
    "#         return torch.zeros(self.num_layers, batch_size, self.hidden_size, device=device)\n"
   ]
  },
  {
   "cell_type": "markdown",
   "id": "117cc854",
   "metadata": {},
   "source": [
    "## 업그레이드 GRU"
   ]
  },
  {
   "cell_type": "code",
   "execution_count": 29,
   "id": "af3bd47a",
   "metadata": {},
   "outputs": [],
   "source": [
    "# import torch.nn as nn\n",
    "# import torch\n",
    "\n",
    "# class ImprovedModel(nn.Module):\n",
    "#     def __init__(self, input_size=5, hidden_size=512, num_layers=2, output_size=CFG['PREDICT_SIZE']):\n",
    "#         super(ImprovedModel, self).__init__()\n",
    "#         self.hidden_size = hidden_size\n",
    "#         self.num_layers = num_layers\n",
    "#         self.gru = nn.GRU(input_size, hidden_size, num_layers=num_layers, batch_first=True)\n",
    "#         self.dropout = nn.Dropout(0.2)  # Adding dropout after GRU\n",
    "#         self.fc = nn.Sequential(\n",
    "#             nn.Linear(hidden_size, hidden_size // 2),\n",
    "#             nn.ReLU(),\n",
    "#             nn.Linear(hidden_size // 2, output_size)\n",
    "#         )\n",
    "#         self.actv = nn.ReLU()  # Using LeakyReLU activation\n",
    "\n",
    "#     def forward(self, x):\n",
    "#         batch_size = x.size(0)\n",
    "#         hidden = self.init_hidden(batch_size, x.device)\n",
    "\n",
    "#         gru_out, hidden = self.gru(x, hidden)\n",
    "#         gru_out = self.dropout(gru_out)  # Applying dropout\n",
    "\n",
    "#         last_output = gru_out[:, -1, :]\n",
    "\n",
    "#         output = self.actv(self.fc(last_output))\n",
    "\n",
    "#         return output.squeeze(1)\n",
    "\n",
    "#     def init_hidden(self, batch_size, device):\n",
    "#         return torch.zeros(self.num_layers, batch_size, self.hidden_size, device=device)"
   ]
  },
  {
   "cell_type": "code",
   "execution_count": 30,
   "id": "5211ab1d",
   "metadata": {},
   "outputs": [],
   "source": [
    "# import torch.nn as nn\n",
    "# import torch\n",
    "\n",
    "# class ImprovedModel(nn.Module):\n",
    "#     def __init__(self, input_size=5, hidden_size=512, num_layers=2, output_size=CFG['PREDICT_SIZE'], dropout_prob=0.2):\n",
    "#         super(ImprovedModel, self).__init__()\n",
    "#         self.hidden_size = hidden_size\n",
    "#         self.num_layers = num_layers\n",
    "#         self.gru = nn.GRU(input_size, hidden_size, num_layers=num_layers, batch_first=True)\n",
    "#         self.dropout = nn.Dropout(dropout_prob)  # Adding dropout after GRU\n",
    "#         self.fc = nn.Sequential(\n",
    "#             nn.Linear(hidden_size, hidden_size // 2),\n",
    "#             nn.ReLU(),\n",
    "#             nn.Linear(hidden_size // 2, output_size)\n",
    "#         )\n",
    "#         self.actv = nn.ReLU()  # Using LeakyReLU activation\n",
    "        \n",
    "\n",
    "#     def forward(self, x):\n",
    "#         batch_size = x.size(0)\n",
    "#         hidden = self.init_hidden(batch_size, x.device)\n",
    "\n",
    "#         gru_out, hidden = self.gru(x, hidden)\n",
    "#         gru_out = self.dropout(gru_out)  # Applying dropout\n",
    "\n",
    "#         last_output = gru_out[:, -1, :]\n",
    "\n",
    "#         output = self.actv(self.fc(last_output))\n",
    "\n",
    "#         return output.squeeze(1)\n",
    "\n",
    "#     def init_hidden(self, batch_size, device):\n",
    "#         return torch.zeros(self.num_layers, batch_size, self.hidden_size, device=device)\n"
   ]
  },
  {
   "cell_type": "markdown",
   "id": "730811ac",
   "metadata": {},
   "source": [
    "# ATTENDTION적용 GRU"
   ]
  },
  {
   "cell_type": "code",
   "execution_count": 31,
   "id": "6086609d",
   "metadata": {},
   "outputs": [],
   "source": [
    "# class ImprovedModel(nn.Module):\n",
    "#     def __init__(self, input_size=5, hidden_size=512, num_layers=2, output_size=CFG['PREDICT_SIZE'], dropout_prob=0.2):\n",
    "#         super(ImprovedModel, self).__init__()\n",
    "#         self.hidden_size = hidden_size\n",
    "#         self.num_layers = num_layers\n",
    "#         self.gru = nn.GRU(input_size, hidden_size, num_layers=num_layers, batch_first=True)\n",
    "#         self.attention = nn.Sequential(\n",
    "#             nn.Linear(hidden_size, hidden_size),  # Adjust as needed\n",
    "#             nn.Tanh(),\n",
    "#             nn.Linear(hidden_size, 1)\n",
    "#         )\n",
    "#         self.dropout = nn.Dropout(dropout_prob)\n",
    "#         self.fc = nn.Sequential(\n",
    "#             nn.Linear(hidden_size, hidden_size // 2),\n",
    "#             nn.ReLU(),\n",
    "#             nn.Linear(hidden_size // 2, output_size)\n",
    "#         )\n",
    "#         self.actv = nn.ReLU()\n",
    "\n",
    "#     def forward(self, x):\n",
    "#         batch_size = x.size(0)\n",
    "#         hidden = self.init_hidden(batch_size, x.device)\n",
    "\n",
    "#         gru_out, hidden = self.gru(x, hidden)\n",
    "#         gru_out = self.dropout(gru_out)\n",
    "\n",
    "#         attention_weights = self.attention(gru_out).squeeze(-1)\n",
    "#         attention_weights = torch.softmax(attention_weights, dim=1)\n",
    "#         context = torch.bmm(attention_weights.unsqueeze(1), gru_out).squeeze(1)\n",
    "\n",
    "#         output = self.actv(self.fc(context))\n",
    "\n",
    "#         return output.squeeze(1)\n",
    "\n",
    "#     def init_hidden(self, batch_size, device):\n",
    "#         return torch.zeros(self.num_layers, batch_size, self.hidden_size, device=device)\n"
   ]
  },
  {
   "cell_type": "markdown",
   "id": "3453ecc6",
   "metadata": {},
   "source": [
    "# Layer Normalization"
   ]
  },
  {
   "cell_type": "code",
   "execution_count": 32,
   "id": "c6deae9b",
   "metadata": {},
   "outputs": [],
   "source": [
    "class ImprovedModel(nn.Module):\n",
    "    def __init__(self, input_size=5, hidden_size=512, num_layers=2, output_size=CFG['PREDICT_SIZE'], dropout_prob=0.2):\n",
    "        super(ImprovedModel, self).__init__()\n",
    "        self.hidden_size = hidden_size\n",
    "        self.num_layers = num_layers\n",
    "        self.gru = nn.GRU(input_size, hidden_size, num_layers=num_layers, batch_first=True)\n",
    "        self.ln = nn.LayerNorm(hidden_size)  # Layer Normalization\n",
    "        self.dropout = nn.Dropout(dropout_prob)\n",
    "        self.fc = nn.Sequential(\n",
    "            nn.Linear(hidden_size, hidden_size // 2),\n",
    "            nn.ReLU(),\n",
    "            nn.Linear(hidden_size // 2, output_size)\n",
    "        )\n",
    "        self.actv = nn.ReLU()\n",
    "\n",
    "    def forward(self, x):\n",
    "        batch_size = x.size(0)\n",
    "        hidden = self.init_hidden(batch_size, x.device)\n",
    "\n",
    "        gru_out, hidden = self.gru(x, hidden)\n",
    "        gru_out = self.dropout(gru_out)\n",
    "        gru_out = self.ln(gru_out)  # Applying Layer Normalization\n",
    "\n",
    "        last_output = gru_out[:, -1, :]\n",
    "\n",
    "        output = self.actv(self.fc(last_output))\n",
    "\n",
    "        return output.squeeze(1)\n",
    "    def init_hidden(self, batch_size, device):\n",
    "        return torch.zeros(self.num_layers, batch_size, self.hidden_size, device=device)\n",
    "\n"
   ]
  },
  {
   "cell_type": "markdown",
   "id": "b4f79f7d",
   "metadata": {},
   "source": [
    "### 모델 학습"
   ]
  },
  {
   "cell_type": "code",
   "execution_count": 33,
   "id": "ff73d757-32d5-4868-afbb-1b9f2ea13826",
   "metadata": {},
   "outputs": [],
   "source": [
    "# def train(model, optimizer, train_loader, val_loader, device, scheduler = None):\n",
    "#     model.to(device)\n",
    "#     criterion = nn.MSELoss().to(device)\n",
    "#     best_loss = 9999999\n",
    "#     best_model = None\n",
    "    \n",
    "    \n",
    "    \n",
    "#     for epoch in range(1, CFG['EPOCHS']+1):\n",
    "#         model.train()\n",
    "#         train_loss = []\n",
    "#         train_mae = []\n",
    "        \n",
    "#         for X, Y in tqdm(iter(train_loader)):\n",
    "#             X = X.to(device)\n",
    "#             Y = Y.to(device)\n",
    "\n",
    "            \n",
    "#             optimizer.zero_grad()\n",
    "            \n",
    "#             output = model(X)\n",
    "#             loss = criterion(output, Y)\n",
    "            \n",
    "#             loss.backward()\n",
    "#             optimizer.step()\n",
    "            \n",
    "#             train_loss.append(loss.item())\n",
    "\n",
    "#         if scheduler is not None:\n",
    "#             scheduler.step()  # Update learning rate\n",
    "        \n",
    "#         val_loss = validation(model, val_loader, criterion, device)\n",
    "#         print(f'Epoch : [{epoch}] Train Loss : [{np.mean(train_loss):.5f}] Val Loss : [{val_loss:.5f}]')\n",
    "        \n",
    "\n",
    "\n",
    "#         # # 학습 루프 안에서\n",
    "#         # if best_loss > val_loss:\n",
    "#         #     best_loss = val_loss\n",
    "#         #     best_model = model\n",
    "#         #     print('Model Saved')\n",
    "\n",
    "#         # 학습이 끝난 후\n",
    "#     return model  # 모든 모델을 반환\n",
    "\n",
    "\n"
   ]
  },
  {
   "cell_type": "code",
   "execution_count": 34,
   "id": "1b4f2ed7",
   "metadata": {},
   "outputs": [],
   "source": [
    "def train(model, optimizer, train_loader, val_loader, device, scheduler=None):\n",
    "    model.to(device)\n",
    "    criterion = nn.MSELoss().to(device)\n",
    "    best_loss = float('inf')\n",
    "    best_model = None\n",
    "    early_stopping_counter = 0\n",
    "    max_early_stopping = 10  # Max number of consecutive epochs with increasing validation loss\n",
    "    \n",
    "    for epoch in range(1, CFG['EPOCHS'] + 1):\n",
    "        model.train()\n",
    "        train_loss = []\n",
    "        train_mae = []\n",
    "\n",
    "        for X, Y in tqdm(iter(train_loader)):\n",
    "            X = X.to(device)\n",
    "            Y = Y.to(device)\n",
    "\n",
    "            optimizer.zero_grad()\n",
    "\n",
    "            output = model(X)\n",
    "            loss = criterion(output, Y)\n",
    "\n",
    "            loss.backward()\n",
    "            optimizer.step()\n",
    "\n",
    "            train_loss.append(loss.item())\n",
    "\n",
    "\n",
    "        \n",
    "        val_loss = validation(model, val_loader, criterion, device)\n",
    "        print(f'Epoch : [{epoch}] Train Loss : [{np.mean(train_loss):.5f}] Val Loss : [{val_loss:.5f}]')\n",
    "\n",
    "        if scheduler is not None:\n",
    "            scheduler.step(val_loss)  # Update learning rate based on scheduler's policy\n",
    "        \n",
    "        if val_loss < best_loss:\n",
    "            best_loss = val_loss\n",
    "            best_model = model\n",
    "            early_stopping_counter = 0\n",
    "        else:\n",
    "            early_stopping_counter += 1\n",
    "            if early_stopping_counter >= max_early_stopping:\n",
    "                print(f'Early stopping triggered at epoch {epoch}')\n",
    "                break\n",
    "\n",
    "    return best_model\n"
   ]
  },
  {
   "cell_type": "markdown",
   "id": "d151ad04",
   "metadata": {},
   "source": [
    "## L2규제 추가한 코드"
   ]
  },
  {
   "cell_type": "code",
   "execution_count": 35,
   "id": "c45a26b5",
   "metadata": {},
   "outputs": [],
   "source": [
    "# def train(model, optimizer, train_loader, val_loader, device, weight_decay=0.001):\n",
    "#     model.to(device)\n",
    "#     criterion = nn.MSELoss().to(device)\n",
    "#     best_loss = 9999999\n",
    "#     best_model = None\n",
    "    \n",
    "#     for epoch in range(1, CFG['EPOCHS'] + 1):\n",
    "#         model.train()\n",
    "#         train_loss = []\n",
    "#         train_mae = []\n",
    "        \n",
    "#         for X, Y in tqdm(iter(train_loader)):\n",
    "#             X = X.to(device)\n",
    "#             Y = Y.to(device)\n",
    "\n",
    "#             optimizer.zero_grad()\n",
    "            \n",
    "#             output = model(X)\n",
    "#             loss = criterion(output, Y)\n",
    "            \n",
    "#             # L2 regularization term\n",
    "#             l2_reg = torch.tensor(0.0).to(device)\n",
    "#             for param in model.parameters():\n",
    "#                 l2_reg += torch.norm(param, p=2)\n",
    "\n",
    "#             loss += l2_reg * weight_decay  # Apply L2 regularization to the loss\n",
    "            \n",
    "#             loss.backward()\n",
    "#             optimizer.step()\n",
    "            \n",
    "#             train_loss.append(loss.item())\n",
    "        \n",
    "#         val_loss = validation(model, val_loader, criterion, device)\n",
    "#         print(f'Epoch : [{epoch}] Train Loss : [{np.mean(train_loss):.5f}] Val Loss : [{val_loss:.5f}]')\n",
    "\n",
    "#         if best_loss > val_loss:\n",
    "#             best_loss = val_loss\n",
    "#             best_model = model\n",
    "#             print('Model Saved')\n",
    "    \n",
    "#     return best_model\n"
   ]
  },
  {
   "cell_type": "code",
   "execution_count": 36,
   "id": "bbe1802a-35ff-4b43-a1a8-16c8079baf68",
   "metadata": {},
   "outputs": [],
   "source": [
    "def validation(model, val_loader, criterion, device):\n",
    "    model.eval()\n",
    "    val_loss = []\n",
    "    \n",
    "    with torch.no_grad():\n",
    "        for X, Y in tqdm(iter(val_loader)):\n",
    "            X = X.to(device)\n",
    "            Y = Y.to(device)\n",
    "            \n",
    "            output = model(X)\n",
    "            loss = criterion(output, Y)\n",
    "            \n",
    "            val_loss.append(loss.item())\n",
    "    return np.mean(val_loss)"
   ]
  },
  {
   "cell_type": "markdown",
   "id": "1c83fa73-30d5-489c-852b-d655f76a200c",
   "metadata": {},
   "source": [
    "## Run !!"
   ]
  },
  {
   "cell_type": "markdown",
   "id": "0aa411bc",
   "metadata": {},
   "source": [
    "# 0.7//    2   지금은 0.7 // 1 ㅣㅁ"
   ]
  },
  {
   "cell_type": "code",
   "execution_count": 37,
   "id": "38ad967e",
   "metadata": {},
   "outputs": [
    {
     "name": "stderr",
     "output_type": "stream",
     "text": [
      "100%|██████████| 1003/1003 [08:21<00:00,  2.00it/s]\n",
      "100%|██████████| 126/126 [00:28<00:00,  4.44it/s]\n"
     ]
    },
    {
     "name": "stdout",
     "output_type": "stream",
     "text": [
      "Epoch : [1] Train Loss : [0.03244] Val Loss : [0.02965]\n"
     ]
    },
    {
     "name": "stderr",
     "output_type": "stream",
     "text": [
      "100%|██████████| 1003/1003 [08:21<00:00,  2.00it/s]\n",
      "100%|██████████| 126/126 [00:28<00:00,  4.43it/s]\n"
     ]
    },
    {
     "name": "stdout",
     "output_type": "stream",
     "text": [
      "Epoch : [2] Train Loss : [0.03041] Val Loss : [0.03081]\n"
     ]
    },
    {
     "name": "stderr",
     "output_type": "stream",
     "text": [
      "100%|██████████| 1003/1003 [08:13<00:00,  2.03it/s]\n",
      "100%|██████████| 126/126 [00:28<00:00,  4.49it/s]\n"
     ]
    },
    {
     "name": "stdout",
     "output_type": "stream",
     "text": [
      "Epoch : [3] Train Loss : [0.02909] Val Loss : [0.02969]\n",
      "Epoch 00003: reducing learning rate of group 0 to 7.0000e-05.\n"
     ]
    },
    {
     "name": "stderr",
     "output_type": "stream",
     "text": [
      "100%|██████████| 1003/1003 [08:13<00:00,  2.03it/s]\n",
      "100%|██████████| 126/126 [00:28<00:00,  4.48it/s]\n"
     ]
    },
    {
     "name": "stdout",
     "output_type": "stream",
     "text": [
      "Epoch : [4] Train Loss : [0.02816] Val Loss : [0.02954]\n"
     ]
    },
    {
     "name": "stderr",
     "output_type": "stream",
     "text": [
      "100%|██████████| 1003/1003 [08:12<00:00,  2.04it/s]\n",
      "100%|██████████| 126/126 [00:28<00:00,  4.48it/s]\n"
     ]
    },
    {
     "name": "stdout",
     "output_type": "stream",
     "text": [
      "Epoch : [5] Train Loss : [0.02770] Val Loss : [0.03008]\n"
     ]
    },
    {
     "name": "stderr",
     "output_type": "stream",
     "text": [
      "100%|██████████| 1003/1003 [08:15<00:00,  2.03it/s]\n",
      "100%|██████████| 126/126 [00:27<00:00,  4.50it/s]\n"
     ]
    },
    {
     "name": "stdout",
     "output_type": "stream",
     "text": [
      "Epoch : [6] Train Loss : [0.02476] Val Loss : [0.01791]\n"
     ]
    },
    {
     "name": "stderr",
     "output_type": "stream",
     "text": [
      "100%|██████████| 1003/1003 [08:14<00:00,  2.03it/s]\n",
      "100%|██████████| 126/126 [00:27<00:00,  4.52it/s]\n"
     ]
    },
    {
     "name": "stdout",
     "output_type": "stream",
     "text": [
      "Epoch : [7] Train Loss : [0.01737] Val Loss : [0.01757]\n"
     ]
    },
    {
     "name": "stderr",
     "output_type": "stream",
     "text": [
      "100%|██████████| 1003/1003 [08:12<00:00,  2.04it/s]\n",
      "100%|██████████| 126/126 [00:27<00:00,  4.64it/s]\n"
     ]
    },
    {
     "name": "stdout",
     "output_type": "stream",
     "text": [
      "Epoch : [8] Train Loss : [0.01701] Val Loss : [0.01704]\n"
     ]
    },
    {
     "name": "stderr",
     "output_type": "stream",
     "text": [
      "100%|██████████| 1003/1003 [08:05<00:00,  2.07it/s]\n",
      "100%|██████████| 126/126 [00:27<00:00,  4.60it/s]\n"
     ]
    },
    {
     "name": "stdout",
     "output_type": "stream",
     "text": [
      "Epoch : [9] Train Loss : [0.01697] Val Loss : [0.01661]\n"
     ]
    },
    {
     "name": "stderr",
     "output_type": "stream",
     "text": [
      "100%|██████████| 1003/1003 [08:06<00:00,  2.06it/s]\n",
      "100%|██████████| 126/126 [00:27<00:00,  4.61it/s]\n"
     ]
    },
    {
     "name": "stdout",
     "output_type": "stream",
     "text": [
      "Epoch : [10] Train Loss : [0.01682] Val Loss : [0.01810]\n"
     ]
    },
    {
     "name": "stderr",
     "output_type": "stream",
     "text": [
      "100%|██████████| 1003/1003 [08:06<00:00,  2.06it/s]\n",
      "100%|██████████| 126/126 [00:27<00:00,  4.64it/s]\n"
     ]
    },
    {
     "name": "stdout",
     "output_type": "stream",
     "text": [
      "Epoch : [11] Train Loss : [0.01676] Val Loss : [0.01643]\n"
     ]
    },
    {
     "name": "stderr",
     "output_type": "stream",
     "text": [
      "100%|██████████| 1003/1003 [08:06<00:00,  2.06it/s]\n",
      "100%|██████████| 126/126 [00:27<00:00,  4.59it/s]\n"
     ]
    },
    {
     "name": "stdout",
     "output_type": "stream",
     "text": [
      "Epoch : [12] Train Loss : [0.01646] Val Loss : [0.01679]\n"
     ]
    },
    {
     "name": "stderr",
     "output_type": "stream",
     "text": [
      "100%|██████████| 1003/1003 [08:09<00:00,  2.05it/s]\n",
      "100%|██████████| 126/126 [00:27<00:00,  4.59it/s]\n"
     ]
    },
    {
     "name": "stdout",
     "output_type": "stream",
     "text": [
      "Epoch : [13] Train Loss : [0.01638] Val Loss : [0.01614]\n"
     ]
    },
    {
     "name": "stderr",
     "output_type": "stream",
     "text": [
      "100%|██████████| 1003/1003 [08:10<00:00,  2.05it/s]\n",
      "100%|██████████| 126/126 [00:27<00:00,  4.60it/s]\n"
     ]
    },
    {
     "name": "stdout",
     "output_type": "stream",
     "text": [
      "Epoch : [14] Train Loss : [0.01637] Val Loss : [0.01640]\n"
     ]
    },
    {
     "name": "stderr",
     "output_type": "stream",
     "text": [
      "100%|██████████| 1003/1003 [08:10<00:00,  2.05it/s]\n",
      "100%|██████████| 126/126 [00:27<00:00,  4.62it/s]\n"
     ]
    },
    {
     "name": "stdout",
     "output_type": "stream",
     "text": [
      "Epoch : [15] Train Loss : [0.01632] Val Loss : [0.01612]\n"
     ]
    },
    {
     "name": "stderr",
     "output_type": "stream",
     "text": [
      "100%|██████████| 1003/1003 [08:09<00:00,  2.05it/s]\n",
      "100%|██████████| 126/126 [00:27<00:00,  4.56it/s]\n"
     ]
    },
    {
     "name": "stdout",
     "output_type": "stream",
     "text": [
      "Epoch : [16] Train Loss : [0.01625] Val Loss : [0.01610]\n"
     ]
    },
    {
     "name": "stderr",
     "output_type": "stream",
     "text": [
      "100%|██████████| 1003/1003 [08:08<00:00,  2.05it/s]\n",
      "100%|██████████| 126/126 [00:27<00:00,  4.59it/s]\n"
     ]
    },
    {
     "name": "stdout",
     "output_type": "stream",
     "text": [
      "Epoch : [17] Train Loss : [0.01623] Val Loss : [0.01657]\n"
     ]
    },
    {
     "name": "stderr",
     "output_type": "stream",
     "text": [
      "100%|██████████| 1003/1003 [08:10<00:00,  2.05it/s]\n",
      "100%|██████████| 126/126 [00:27<00:00,  4.60it/s]\n"
     ]
    },
    {
     "name": "stdout",
     "output_type": "stream",
     "text": [
      "Epoch : [18] Train Loss : [0.01619] Val Loss : [0.01629]\n",
      "Epoch 00018: reducing learning rate of group 0 to 4.9000e-05.\n"
     ]
    },
    {
     "name": "stderr",
     "output_type": "stream",
     "text": [
      "100%|██████████| 1003/1003 [08:10<00:00,  2.05it/s]\n",
      "100%|██████████| 126/126 [00:28<00:00,  4.45it/s]\n"
     ]
    },
    {
     "name": "stdout",
     "output_type": "stream",
     "text": [
      "Epoch : [19] Train Loss : [0.01606] Val Loss : [0.01621]\n"
     ]
    },
    {
     "name": "stderr",
     "output_type": "stream",
     "text": [
      "100%|██████████| 1003/1003 [08:08<00:00,  2.05it/s]\n",
      "100%|██████████| 126/126 [00:27<00:00,  4.65it/s]\n"
     ]
    },
    {
     "name": "stdout",
     "output_type": "stream",
     "text": [
      "Epoch : [20] Train Loss : [0.01611] Val Loss : [0.01696]\n",
      "Epoch 00020: reducing learning rate of group 0 to 3.4300e-05.\n"
     ]
    },
    {
     "name": "stderr",
     "output_type": "stream",
     "text": [
      "100%|██████████| 1003/1003 [08:03<00:00,  2.07it/s]\n",
      "100%|██████████| 126/126 [00:28<00:00,  4.45it/s]\n"
     ]
    },
    {
     "name": "stdout",
     "output_type": "stream",
     "text": [
      "Epoch : [21] Train Loss : [0.01606] Val Loss : [0.01616]\n"
     ]
    },
    {
     "name": "stderr",
     "output_type": "stream",
     "text": [
      "100%|██████████| 1003/1003 [08:14<00:00,  2.03it/s]\n",
      "100%|██████████| 126/126 [00:28<00:00,  4.46it/s]\n"
     ]
    },
    {
     "name": "stdout",
     "output_type": "stream",
     "text": [
      "Epoch : [22] Train Loss : [0.01594] Val Loss : [0.01603]\n"
     ]
    },
    {
     "name": "stderr",
     "output_type": "stream",
     "text": [
      "100%|██████████| 1003/1003 [08:12<00:00,  2.04it/s]\n",
      "100%|██████████| 126/126 [00:28<00:00,  4.49it/s]\n"
     ]
    },
    {
     "name": "stdout",
     "output_type": "stream",
     "text": [
      "Epoch : [23] Train Loss : [0.01589] Val Loss : [0.01607]\n"
     ]
    },
    {
     "name": "stderr",
     "output_type": "stream",
     "text": [
      "100%|██████████| 1003/1003 [08:13<00:00,  2.03it/s]\n",
      "100%|██████████| 126/126 [00:28<00:00,  4.44it/s]\n"
     ]
    },
    {
     "name": "stdout",
     "output_type": "stream",
     "text": [
      "Epoch : [24] Train Loss : [0.01584] Val Loss : [0.01611]\n",
      "Epoch 00024: reducing learning rate of group 0 to 2.4010e-05.\n"
     ]
    },
    {
     "name": "stderr",
     "output_type": "stream",
     "text": [
      "100%|██████████| 1003/1003 [08:12<00:00,  2.04it/s]\n",
      "100%|██████████| 126/126 [00:28<00:00,  4.48it/s]\n"
     ]
    },
    {
     "name": "stdout",
     "output_type": "stream",
     "text": [
      "Epoch : [25] Train Loss : [0.01577] Val Loss : [0.01617]\n"
     ]
    },
    {
     "name": "stderr",
     "output_type": "stream",
     "text": [
      "100%|██████████| 1003/1003 [08:12<00:00,  2.04it/s]\n",
      "100%|██████████| 126/126 [00:27<00:00,  4.63it/s]\n"
     ]
    },
    {
     "name": "stdout",
     "output_type": "stream",
     "text": [
      "Epoch : [26] Train Loss : [0.01573] Val Loss : [0.01616]\n",
      "Epoch 00026: reducing learning rate of group 0 to 1.6807e-05.\n"
     ]
    },
    {
     "name": "stderr",
     "output_type": "stream",
     "text": [
      "100%|██████████| 1003/1003 [08:05<00:00,  2.06it/s]\n",
      "100%|██████████| 126/126 [00:26<00:00,  4.68it/s]\n"
     ]
    },
    {
     "name": "stdout",
     "output_type": "stream",
     "text": [
      "Epoch : [27] Train Loss : [0.01568] Val Loss : [0.01624]\n"
     ]
    },
    {
     "name": "stderr",
     "output_type": "stream",
     "text": [
      "100%|██████████| 1003/1003 [08:05<00:00,  2.07it/s]\n",
      "100%|██████████| 126/126 [00:27<00:00,  4.63it/s]\n"
     ]
    },
    {
     "name": "stdout",
     "output_type": "stream",
     "text": [
      "Epoch : [28] Train Loss : [0.01565] Val Loss : [0.01631]\n",
      "Epoch 00028: reducing learning rate of group 0 to 1.1765e-05.\n"
     ]
    },
    {
     "name": "stderr",
     "output_type": "stream",
     "text": [
      "100%|██████████| 1003/1003 [08:13<00:00,  2.03it/s]\n",
      "100%|██████████| 126/126 [00:28<00:00,  4.43it/s]\n"
     ]
    },
    {
     "name": "stdout",
     "output_type": "stream",
     "text": [
      "Epoch : [29] Train Loss : [0.01561] Val Loss : [0.01640]\n"
     ]
    },
    {
     "name": "stderr",
     "output_type": "stream",
     "text": [
      "100%|██████████| 1003/1003 [08:14<00:00,  2.03it/s]\n",
      "100%|██████████| 126/126 [00:28<00:00,  4.48it/s]\n"
     ]
    },
    {
     "name": "stdout",
     "output_type": "stream",
     "text": [
      "Epoch : [30] Train Loss : [0.01559] Val Loss : [0.01642]\n",
      "Epoch 00030: reducing learning rate of group 0 to 8.2354e-06.\n"
     ]
    },
    {
     "name": "stderr",
     "output_type": "stream",
     "text": [
      "100%|██████████| 1003/1003 [08:14<00:00,  2.03it/s]\n",
      "100%|██████████| 126/126 [00:28<00:00,  4.49it/s]\n"
     ]
    },
    {
     "name": "stdout",
     "output_type": "stream",
     "text": [
      "Epoch : [31] Train Loss : [0.01555] Val Loss : [0.01637]\n"
     ]
    },
    {
     "name": "stderr",
     "output_type": "stream",
     "text": [
      "100%|██████████| 1003/1003 [08:13<00:00,  2.03it/s]\n",
      "100%|██████████| 126/126 [00:28<00:00,  4.47it/s]"
     ]
    },
    {
     "name": "stdout",
     "output_type": "stream",
     "text": [
      "Epoch : [32] Train Loss : [0.01554] Val Loss : [0.01670]\n",
      "Epoch 00032: reducing learning rate of group 0 to 5.7648e-06.\n",
      "Early stopping triggered at epoch 32\n"
     ]
    },
    {
     "name": "stderr",
     "output_type": "stream",
     "text": [
      "\n"
     ]
    }
   ],
   "source": [
    "import torch.optim.lr_scheduler as lr_scheduler\n",
    "\n",
    "model = ImprovedModel() # BaseModel() \n",
    "optimizer = torch.optim.RAdam(params = model.parameters(), lr = CFG[\"LEARNING_RATE\"])\n",
    "scheduler = lr_scheduler.ReduceLROnPlateau(optimizer, mode='min', patience=1, factor=0.7, verbose=True)\n",
    "infer_model = train(model, optimizer, train_loader, val_loader, device, scheduler)\n"
   ]
  },
  {
   "cell_type": "markdown",
   "id": "36b20af7-f5b1-4a7a-8eb9-7dde5bbf3d04",
   "metadata": {},
   "source": [
    "## 모델 추론"
   ]
  },
  {
   "cell_type": "code",
   "execution_count": 38,
   "id": "b01d7ca0-899e-4515-a43e-890549f8f3c7",
   "metadata": {},
   "outputs": [],
   "source": [
    "test_dataset = CustomDataset(test_input, None)\n",
    "test_loader = DataLoader(test_dataset, batch_size = CFG['BATCH_SIZE'], shuffle=False, num_workers=0)"
   ]
  },
  {
   "cell_type": "code",
   "execution_count": 39,
   "id": "214f30d4-2b19-479f-89b7-bf5bb2adc111",
   "metadata": {},
   "outputs": [],
   "source": [
    "def inference(model, test_loader, device):\n",
    "    predictions = []\n",
    "    \n",
    "    with torch.no_grad():\n",
    "        for X in tqdm(iter(test_loader)):\n",
    "            X = X.to(device)\n",
    "            \n",
    "            output = model(X)\n",
    "            \n",
    "            # 모델 출력인 output을 CPU로 이동하고 numpy 배열로 변환\n",
    "            output = output.cpu().numpy()\n",
    "            \n",
    "            predictions.extend(output)\n",
    "    \n",
    "    return np.array(predictions)"
   ]
  },
  {
   "cell_type": "code",
   "execution_count": 40,
   "id": "6b76e053-6fd2-44a7-8631-d903e7ffa292",
   "metadata": {},
   "outputs": [
    {
     "name": "stderr",
     "output_type": "stream",
     "text": [
      "100%|██████████| 4/4 [00:00<00:00,  6.07it/s]\n"
     ]
    }
   ],
   "source": [
    "pred = inference(infer_model, test_loader, device)"
   ]
  },
  {
   "cell_type": "code",
   "execution_count": 41,
   "id": "517978aa-445a-4ece-9217-432682f71230",
   "metadata": {},
   "outputs": [],
   "source": [
    "# 추론 결과를 inverse scaling\n",
    "for idx in range(len(pred)):\n",
    "    pred[idx, :] = pred[idx, :] * (scale_max_dict[idx] - scale_min_dict[idx]) + scale_min_dict[idx]\n",
    "    \n",
    "# 결과 후처리\n",
    "pred = np.round(pred, 0).astype(int)"
   ]
  },
  {
   "cell_type": "code",
   "execution_count": 42,
   "id": "c90fa77e-fd03-4539-98fe-563fe2a25121",
   "metadata": {},
   "outputs": [
    {
     "data": {
      "text/plain": [
       "(15890, 21)"
      ]
     },
     "execution_count": 42,
     "metadata": {},
     "output_type": "execute_result"
    }
   ],
   "source": [
    "pred.shape"
   ]
  },
  {
   "cell_type": "markdown",
   "id": "a48b50eb-d2d8-4c2d-a5e7-9607220fd794",
   "metadata": {},
   "source": [
    "## Submission"
   ]
  },
  {
   "cell_type": "code",
   "execution_count": 43,
   "id": "b78c84bb-5dbe-4fb3-aff0-7e229ae29a8d",
   "metadata": {},
   "outputs": [
    {
     "data": {
      "text/html": [
       "<div>\n",
       "<style scoped>\n",
       "    .dataframe tbody tr th:only-of-type {\n",
       "        vertical-align: middle;\n",
       "    }\n",
       "\n",
       "    .dataframe tbody tr th {\n",
       "        vertical-align: top;\n",
       "    }\n",
       "\n",
       "    .dataframe thead th {\n",
       "        text-align: right;\n",
       "    }\n",
       "</style>\n",
       "<table border=\"1\" class=\"dataframe\">\n",
       "  <thead>\n",
       "    <tr style=\"text-align: right;\">\n",
       "      <th></th>\n",
       "      <th>ID</th>\n",
       "      <th>2023-04-05</th>\n",
       "      <th>2023-04-06</th>\n",
       "      <th>2023-04-07</th>\n",
       "      <th>2023-04-08</th>\n",
       "      <th>2023-04-09</th>\n",
       "      <th>2023-04-10</th>\n",
       "      <th>2023-04-11</th>\n",
       "      <th>2023-04-12</th>\n",
       "      <th>2023-04-13</th>\n",
       "      <th>...</th>\n",
       "      <th>2023-04-16</th>\n",
       "      <th>2023-04-17</th>\n",
       "      <th>2023-04-18</th>\n",
       "      <th>2023-04-19</th>\n",
       "      <th>2023-04-20</th>\n",
       "      <th>2023-04-21</th>\n",
       "      <th>2023-04-22</th>\n",
       "      <th>2023-04-23</th>\n",
       "      <th>2023-04-24</th>\n",
       "      <th>2023-04-25</th>\n",
       "    </tr>\n",
       "  </thead>\n",
       "  <tbody>\n",
       "    <tr>\n",
       "      <th>0</th>\n",
       "      <td>0</td>\n",
       "      <td>0</td>\n",
       "      <td>0</td>\n",
       "      <td>0</td>\n",
       "      <td>0</td>\n",
       "      <td>0</td>\n",
       "      <td>0</td>\n",
       "      <td>0</td>\n",
       "      <td>0</td>\n",
       "      <td>0</td>\n",
       "      <td>...</td>\n",
       "      <td>0</td>\n",
       "      <td>0</td>\n",
       "      <td>0</td>\n",
       "      <td>0</td>\n",
       "      <td>0</td>\n",
       "      <td>0</td>\n",
       "      <td>0</td>\n",
       "      <td>0</td>\n",
       "      <td>0</td>\n",
       "      <td>0</td>\n",
       "    </tr>\n",
       "    <tr>\n",
       "      <th>1</th>\n",
       "      <td>1</td>\n",
       "      <td>0</td>\n",
       "      <td>0</td>\n",
       "      <td>0</td>\n",
       "      <td>0</td>\n",
       "      <td>0</td>\n",
       "      <td>0</td>\n",
       "      <td>0</td>\n",
       "      <td>0</td>\n",
       "      <td>0</td>\n",
       "      <td>...</td>\n",
       "      <td>0</td>\n",
       "      <td>0</td>\n",
       "      <td>0</td>\n",
       "      <td>0</td>\n",
       "      <td>0</td>\n",
       "      <td>0</td>\n",
       "      <td>0</td>\n",
       "      <td>0</td>\n",
       "      <td>0</td>\n",
       "      <td>0</td>\n",
       "    </tr>\n",
       "    <tr>\n",
       "      <th>2</th>\n",
       "      <td>2</td>\n",
       "      <td>0</td>\n",
       "      <td>0</td>\n",
       "      <td>0</td>\n",
       "      <td>0</td>\n",
       "      <td>0</td>\n",
       "      <td>0</td>\n",
       "      <td>0</td>\n",
       "      <td>0</td>\n",
       "      <td>0</td>\n",
       "      <td>...</td>\n",
       "      <td>0</td>\n",
       "      <td>0</td>\n",
       "      <td>0</td>\n",
       "      <td>0</td>\n",
       "      <td>0</td>\n",
       "      <td>0</td>\n",
       "      <td>0</td>\n",
       "      <td>0</td>\n",
       "      <td>0</td>\n",
       "      <td>0</td>\n",
       "    </tr>\n",
       "    <tr>\n",
       "      <th>3</th>\n",
       "      <td>3</td>\n",
       "      <td>0</td>\n",
       "      <td>0</td>\n",
       "      <td>0</td>\n",
       "      <td>0</td>\n",
       "      <td>0</td>\n",
       "      <td>0</td>\n",
       "      <td>0</td>\n",
       "      <td>0</td>\n",
       "      <td>0</td>\n",
       "      <td>...</td>\n",
       "      <td>0</td>\n",
       "      <td>0</td>\n",
       "      <td>0</td>\n",
       "      <td>0</td>\n",
       "      <td>0</td>\n",
       "      <td>0</td>\n",
       "      <td>0</td>\n",
       "      <td>0</td>\n",
       "      <td>0</td>\n",
       "      <td>0</td>\n",
       "    </tr>\n",
       "    <tr>\n",
       "      <th>4</th>\n",
       "      <td>4</td>\n",
       "      <td>0</td>\n",
       "      <td>0</td>\n",
       "      <td>0</td>\n",
       "      <td>0</td>\n",
       "      <td>0</td>\n",
       "      <td>0</td>\n",
       "      <td>0</td>\n",
       "      <td>0</td>\n",
       "      <td>0</td>\n",
       "      <td>...</td>\n",
       "      <td>0</td>\n",
       "      <td>0</td>\n",
       "      <td>0</td>\n",
       "      <td>0</td>\n",
       "      <td>0</td>\n",
       "      <td>0</td>\n",
       "      <td>0</td>\n",
       "      <td>0</td>\n",
       "      <td>0</td>\n",
       "      <td>0</td>\n",
       "    </tr>\n",
       "  </tbody>\n",
       "</table>\n",
       "<p>5 rows × 22 columns</p>\n",
       "</div>"
      ],
      "text/plain": [
       "   ID  2023-04-05  2023-04-06  2023-04-07  2023-04-08  2023-04-09  2023-04-10  \\\n",
       "0   0           0           0           0           0           0           0   \n",
       "1   1           0           0           0           0           0           0   \n",
       "2   2           0           0           0           0           0           0   \n",
       "3   3           0           0           0           0           0           0   \n",
       "4   4           0           0           0           0           0           0   \n",
       "\n",
       "   2023-04-11  2023-04-12  2023-04-13  ...  2023-04-16  2023-04-17  \\\n",
       "0           0           0           0  ...           0           0   \n",
       "1           0           0           0  ...           0           0   \n",
       "2           0           0           0  ...           0           0   \n",
       "3           0           0           0  ...           0           0   \n",
       "4           0           0           0  ...           0           0   \n",
       "\n",
       "   2023-04-18  2023-04-19  2023-04-20  2023-04-21  2023-04-22  2023-04-23  \\\n",
       "0           0           0           0           0           0           0   \n",
       "1           0           0           0           0           0           0   \n",
       "2           0           0           0           0           0           0   \n",
       "3           0           0           0           0           0           0   \n",
       "4           0           0           0           0           0           0   \n",
       "\n",
       "   2023-04-24  2023-04-25  \n",
       "0           0           0  \n",
       "1           0           0  \n",
       "2           0           0  \n",
       "3           0           0  \n",
       "4           0           0  \n",
       "\n",
       "[5 rows x 22 columns]"
      ]
     },
     "execution_count": 43,
     "metadata": {},
     "output_type": "execute_result"
    }
   ],
   "source": [
    "submit = pd.read_csv('E:/LG/LG_data/sample_submission.csv')\n",
    "submit.head()"
   ]
  },
  {
   "cell_type": "code",
   "execution_count": 44,
   "id": "2db62d9c-b3ad-440a-8cc7-4897b2e4860f",
   "metadata": {},
   "outputs": [
    {
     "data": {
      "text/html": [
       "<div>\n",
       "<style scoped>\n",
       "    .dataframe tbody tr th:only-of-type {\n",
       "        vertical-align: middle;\n",
       "    }\n",
       "\n",
       "    .dataframe tbody tr th {\n",
       "        vertical-align: top;\n",
       "    }\n",
       "\n",
       "    .dataframe thead th {\n",
       "        text-align: right;\n",
       "    }\n",
       "</style>\n",
       "<table border=\"1\" class=\"dataframe\">\n",
       "  <thead>\n",
       "    <tr style=\"text-align: right;\">\n",
       "      <th></th>\n",
       "      <th>ID</th>\n",
       "      <th>2023-04-05</th>\n",
       "      <th>2023-04-06</th>\n",
       "      <th>2023-04-07</th>\n",
       "      <th>2023-04-08</th>\n",
       "      <th>2023-04-09</th>\n",
       "      <th>2023-04-10</th>\n",
       "      <th>2023-04-11</th>\n",
       "      <th>2023-04-12</th>\n",
       "      <th>2023-04-13</th>\n",
       "      <th>...</th>\n",
       "      <th>2023-04-16</th>\n",
       "      <th>2023-04-17</th>\n",
       "      <th>2023-04-18</th>\n",
       "      <th>2023-04-19</th>\n",
       "      <th>2023-04-20</th>\n",
       "      <th>2023-04-21</th>\n",
       "      <th>2023-04-22</th>\n",
       "      <th>2023-04-23</th>\n",
       "      <th>2023-04-24</th>\n",
       "      <th>2023-04-25</th>\n",
       "    </tr>\n",
       "  </thead>\n",
       "  <tbody>\n",
       "    <tr>\n",
       "      <th>0</th>\n",
       "      <td>0</td>\n",
       "      <td>0</td>\n",
       "      <td>0</td>\n",
       "      <td>0</td>\n",
       "      <td>0</td>\n",
       "      <td>0</td>\n",
       "      <td>0</td>\n",
       "      <td>0</td>\n",
       "      <td>0</td>\n",
       "      <td>0</td>\n",
       "      <td>...</td>\n",
       "      <td>0</td>\n",
       "      <td>0</td>\n",
       "      <td>0</td>\n",
       "      <td>0</td>\n",
       "      <td>0</td>\n",
       "      <td>0</td>\n",
       "      <td>0</td>\n",
       "      <td>0</td>\n",
       "      <td>0</td>\n",
       "      <td>0</td>\n",
       "    </tr>\n",
       "    <tr>\n",
       "      <th>1</th>\n",
       "      <td>1</td>\n",
       "      <td>0</td>\n",
       "      <td>0</td>\n",
       "      <td>1</td>\n",
       "      <td>1</td>\n",
       "      <td>1</td>\n",
       "      <td>1</td>\n",
       "      <td>1</td>\n",
       "      <td>1</td>\n",
       "      <td>1</td>\n",
       "      <td>...</td>\n",
       "      <td>1</td>\n",
       "      <td>1</td>\n",
       "      <td>1</td>\n",
       "      <td>1</td>\n",
       "      <td>1</td>\n",
       "      <td>1</td>\n",
       "      <td>0</td>\n",
       "      <td>0</td>\n",
       "      <td>1</td>\n",
       "      <td>1</td>\n",
       "    </tr>\n",
       "    <tr>\n",
       "      <th>2</th>\n",
       "      <td>2</td>\n",
       "      <td>0</td>\n",
       "      <td>0</td>\n",
       "      <td>0</td>\n",
       "      <td>0</td>\n",
       "      <td>0</td>\n",
       "      <td>0</td>\n",
       "      <td>0</td>\n",
       "      <td>0</td>\n",
       "      <td>0</td>\n",
       "      <td>...</td>\n",
       "      <td>0</td>\n",
       "      <td>0</td>\n",
       "      <td>0</td>\n",
       "      <td>0</td>\n",
       "      <td>0</td>\n",
       "      <td>0</td>\n",
       "      <td>0</td>\n",
       "      <td>0</td>\n",
       "      <td>0</td>\n",
       "      <td>0</td>\n",
       "    </tr>\n",
       "    <tr>\n",
       "      <th>3</th>\n",
       "      <td>3</td>\n",
       "      <td>0</td>\n",
       "      <td>0</td>\n",
       "      <td>0</td>\n",
       "      <td>0</td>\n",
       "      <td>0</td>\n",
       "      <td>0</td>\n",
       "      <td>0</td>\n",
       "      <td>0</td>\n",
       "      <td>0</td>\n",
       "      <td>...</td>\n",
       "      <td>0</td>\n",
       "      <td>0</td>\n",
       "      <td>0</td>\n",
       "      <td>0</td>\n",
       "      <td>0</td>\n",
       "      <td>0</td>\n",
       "      <td>1</td>\n",
       "      <td>1</td>\n",
       "      <td>1</td>\n",
       "      <td>1</td>\n",
       "    </tr>\n",
       "    <tr>\n",
       "      <th>4</th>\n",
       "      <td>4</td>\n",
       "      <td>0</td>\n",
       "      <td>0</td>\n",
       "      <td>0</td>\n",
       "      <td>0</td>\n",
       "      <td>0</td>\n",
       "      <td>0</td>\n",
       "      <td>0</td>\n",
       "      <td>0</td>\n",
       "      <td>0</td>\n",
       "      <td>...</td>\n",
       "      <td>0</td>\n",
       "      <td>0</td>\n",
       "      <td>0</td>\n",
       "      <td>0</td>\n",
       "      <td>0</td>\n",
       "      <td>0</td>\n",
       "      <td>0</td>\n",
       "      <td>0</td>\n",
       "      <td>0</td>\n",
       "      <td>0</td>\n",
       "    </tr>\n",
       "  </tbody>\n",
       "</table>\n",
       "<p>5 rows × 22 columns</p>\n",
       "</div>"
      ],
      "text/plain": [
       "   ID  2023-04-05  2023-04-06  2023-04-07  2023-04-08  2023-04-09  2023-04-10  \\\n",
       "0   0           0           0           0           0           0           0   \n",
       "1   1           0           0           1           1           1           1   \n",
       "2   2           0           0           0           0           0           0   \n",
       "3   3           0           0           0           0           0           0   \n",
       "4   4           0           0           0           0           0           0   \n",
       "\n",
       "   2023-04-11  2023-04-12  2023-04-13  ...  2023-04-16  2023-04-17  \\\n",
       "0           0           0           0  ...           0           0   \n",
       "1           1           1           1  ...           1           1   \n",
       "2           0           0           0  ...           0           0   \n",
       "3           0           0           0  ...           0           0   \n",
       "4           0           0           0  ...           0           0   \n",
       "\n",
       "   2023-04-18  2023-04-19  2023-04-20  2023-04-21  2023-04-22  2023-04-23  \\\n",
       "0           0           0           0           0           0           0   \n",
       "1           1           1           1           1           0           0   \n",
       "2           0           0           0           0           0           0   \n",
       "3           0           0           0           0           1           1   \n",
       "4           0           0           0           0           0           0   \n",
       "\n",
       "   2023-04-24  2023-04-25  \n",
       "0           0           0  \n",
       "1           1           1  \n",
       "2           0           0  \n",
       "3           1           1  \n",
       "4           0           0  \n",
       "\n",
       "[5 rows x 22 columns]"
      ]
     },
     "execution_count": 44,
     "metadata": {},
     "output_type": "execute_result"
    }
   ],
   "source": [
    "submit.iloc[:,1:] = pred\n",
    "submit.head()"
   ]
  },
  {
   "cell_type": "code",
   "execution_count": 45,
   "id": "4142f749-f20f-4797-b586-581e5c778297",
   "metadata": {},
   "outputs": [],
   "source": [
    "submit.to_csv('E:/LG/LG_data/models/baseline_submit_epoch_23_130_4096_512_RAdam_GRUNOnozition_2_LAYER_2_774999489560.3.csv', index=False)"
   ]
  },
  {
   "cell_type": "code",
   "execution_count": null,
   "id": "35f8b272",
   "metadata": {},
   "outputs": [],
   "source": []
  },
  {
   "cell_type": "code",
   "execution_count": null,
   "id": "d98b1934",
   "metadata": {},
   "outputs": [],
   "source": []
  },
  {
   "cell_type": "code",
   "execution_count": null,
   "id": "571faeb7",
   "metadata": {},
   "outputs": [],
   "source": []
  },
  {
   "cell_type": "code",
   "execution_count": null,
   "id": "dccc553e",
   "metadata": {},
   "outputs": [],
   "source": []
  },
  {
   "cell_type": "code",
   "execution_count": null,
   "id": "90d8eb81",
   "metadata": {},
   "outputs": [],
   "source": []
  },
  {
   "cell_type": "code",
   "execution_count": null,
   "id": "39082502",
   "metadata": {},
   "outputs": [],
   "source": []
  },
  {
   "cell_type": "code",
   "execution_count": null,
   "id": "0ca3bdaa",
   "metadata": {},
   "outputs": [],
   "source": []
  },
  {
   "cell_type": "code",
   "execution_count": null,
   "id": "48d09c3b",
   "metadata": {},
   "outputs": [],
   "source": []
  },
  {
   "cell_type": "code",
   "execution_count": null,
   "id": "e53bc097",
   "metadata": {},
   "outputs": [],
   "source": []
  },
  {
   "cell_type": "code",
   "execution_count": null,
   "id": "67b3e813",
   "metadata": {},
   "outputs": [],
   "source": []
  }
 ],
 "metadata": {
  "kernelspec": {
   "display_name": "PyTorch 1.14 (NGC 22.12/Python 3.8) on Backend.AI",
   "language": "python",
   "name": "python3"
  },
  "language_info": {
   "codemirror_mode": {
    "name": "ipython",
    "version": 3
   },
   "file_extension": ".py",
   "mimetype": "text/x-python",
   "name": "python",
   "nbconvert_exporter": "python",
   "pygments_lexer": "ipython3",
   "version": "3.10.11"
  }
 },
 "nbformat": 4,
 "nbformat_minor": 5
}
